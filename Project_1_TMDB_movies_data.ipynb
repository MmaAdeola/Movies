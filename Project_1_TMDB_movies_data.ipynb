{
 "cells": [
  {
   "cell_type": "markdown",
   "metadata": {},
   "source": [
    "\n",
    "# Project: Analysis of the movies dataset\n",
    "\n",
    "## Table of Contents\n",
    "<ul>\n",
    "<li><a href=\"#intro\">Introduction</a></li>\n",
    "<li><a href=\"#wrangling\">Data Wrangling</a></li>\n",
    "<li><a href=\"#eda\">Exploratory Data Analysis</a></li>\n",
    "<li><a href=\"#conclusions\">Conclusions</a></li>\n",
    "</ul>"
   ]
  },
  {
   "cell_type": "markdown",
   "metadata": {},
   "source": [
    "<a id='intro'></a>\n",
    "## Introduction\n",
    "\n",
    "The movies data set contains information about 10,000 movies collected from The Movie Database (TMDb), including user ratings and revenue. It is important to note that all references to figures/values in the budget_adj and revenue_adj columns are measured in US dollars. The values in other columns (popularity, vote_average, vote_count) do not have any SI unit of measurement.\n",
    "\n",
    "**Questions**\n",
    " 1. What are the characteristics of highly rated movies?\n",
    " 2. What kinds of properties are associated with movies with high revenues?\n",
    " 3. Which three movies have the highest profit?\n",
    " 4. What are the top ten most rated movies?\n",
    " 5. Is there a relationship between popularity,revenue and rating?\n",
    " 6. What genre has the highest average popularity?"
   ]
  },
  {
   "cell_type": "code",
   "execution_count": 1,
   "metadata": {},
   "outputs": [],
   "source": [
    "#loading essential packages.\n",
    "import pandas as pd\n",
    "import numpy as np\n",
    "import matplotlib.pyplot as plt\n",
    "%matplotlib inline\n",
    "import seaborn as sb\n",
    "plt.style.use('seaborn-darkgrid')"
   ]
  },
  {
   "cell_type": "markdown",
   "metadata": {},
   "source": [
    "<a id='wrangling'></a>\n",
    "## Data Wrangling\n",
    "\n",
    "In this section of the report, the data set for the analysis will be loaded, checked for cleanliness, and then trimmed according to ensure best results.\n",
    "\n",
    "### General Properties"
   ]
  },
  {
   "cell_type": "code",
   "execution_count": 2,
   "metadata": {},
   "outputs": [],
   "source": [
    "#importing dataset for the analysis\n",
    "pd.set_option('display.float_format', lambda x: '%.3f' % x)\n",
    "df = pd.read_csv('movies_data.csv')"
   ]
  },
  {
   "cell_type": "code",
   "execution_count": 3,
   "metadata": {},
   "outputs": [
    {
     "name": "stdout",
     "output_type": "stream",
     "text": [
      "<class 'pandas.core.frame.DataFrame'>\n",
      "RangeIndex: 10866 entries, 0 to 10865\n",
      "Data columns (total 21 columns):\n",
      " #   Column                Non-Null Count  Dtype  \n",
      "---  ------                --------------  -----  \n",
      " 0   id                    10866 non-null  int64  \n",
      " 1   imdb_id               10856 non-null  object \n",
      " 2   popularity            10866 non-null  float64\n",
      " 3   budget                10866 non-null  int64  \n",
      " 4   revenue               10866 non-null  int64  \n",
      " 5   original_title        10866 non-null  object \n",
      " 6   cast                  10790 non-null  object \n",
      " 7   homepage              2936 non-null   object \n",
      " 8   director              10822 non-null  object \n",
      " 9   tagline               8042 non-null   object \n",
      " 10  keywords              9373 non-null   object \n",
      " 11  overview              10862 non-null  object \n",
      " 12  runtime               10866 non-null  int64  \n",
      " 13  genres                10843 non-null  object \n",
      " 14  production_companies  9836 non-null   object \n",
      " 15  release_date          10866 non-null  object \n",
      " 16  vote_count            10866 non-null  int64  \n",
      " 17  vote_average          10866 non-null  float64\n",
      " 18  release_year          10866 non-null  int64  \n",
      " 19  budget_adj            10866 non-null  float64\n",
      " 20  revenue_adj           10866 non-null  float64\n",
      "dtypes: float64(4), int64(6), object(11)\n",
      "memory usage: 1.7+ MB\n"
     ]
    },
    {
     "data": {
      "text/html": [
       "<div>\n",
       "<style scoped>\n",
       "    .dataframe tbody tr th:only-of-type {\n",
       "        vertical-align: middle;\n",
       "    }\n",
       "\n",
       "    .dataframe tbody tr th {\n",
       "        vertical-align: top;\n",
       "    }\n",
       "\n",
       "    .dataframe thead th {\n",
       "        text-align: right;\n",
       "    }\n",
       "</style>\n",
       "<table border=\"1\" class=\"dataframe\">\n",
       "  <thead>\n",
       "    <tr style=\"text-align: right;\">\n",
       "      <th></th>\n",
       "      <th>id</th>\n",
       "      <th>imdb_id</th>\n",
       "      <th>popularity</th>\n",
       "      <th>budget</th>\n",
       "      <th>revenue</th>\n",
       "      <th>original_title</th>\n",
       "      <th>cast</th>\n",
       "      <th>homepage</th>\n",
       "      <th>director</th>\n",
       "      <th>tagline</th>\n",
       "      <th>...</th>\n",
       "      <th>overview</th>\n",
       "      <th>runtime</th>\n",
       "      <th>genres</th>\n",
       "      <th>production_companies</th>\n",
       "      <th>release_date</th>\n",
       "      <th>vote_count</th>\n",
       "      <th>vote_average</th>\n",
       "      <th>release_year</th>\n",
       "      <th>budget_adj</th>\n",
       "      <th>revenue_adj</th>\n",
       "    </tr>\n",
       "  </thead>\n",
       "  <tbody>\n",
       "    <tr>\n",
       "      <th>0</th>\n",
       "      <td>135397</td>\n",
       "      <td>tt0369610</td>\n",
       "      <td>32.986</td>\n",
       "      <td>150000000</td>\n",
       "      <td>1513528810</td>\n",
       "      <td>Jurassic World</td>\n",
       "      <td>Chris Pratt|Bryce Dallas Howard|Irrfan Khan|Vi...</td>\n",
       "      <td>http://www.jurassicworld.com/</td>\n",
       "      <td>Colin Trevorrow</td>\n",
       "      <td>The park is open.</td>\n",
       "      <td>...</td>\n",
       "      <td>Twenty-two years after the events of Jurassic ...</td>\n",
       "      <td>124</td>\n",
       "      <td>Action|Adventure|Science Fiction|Thriller</td>\n",
       "      <td>Universal Studios|Amblin Entertainment|Legenda...</td>\n",
       "      <td>6/9/15</td>\n",
       "      <td>5562</td>\n",
       "      <td>6.500</td>\n",
       "      <td>2015</td>\n",
       "      <td>137999939.280</td>\n",
       "      <td>1392445892.524</td>\n",
       "    </tr>\n",
       "    <tr>\n",
       "      <th>1</th>\n",
       "      <td>76341</td>\n",
       "      <td>tt1392190</td>\n",
       "      <td>28.420</td>\n",
       "      <td>150000000</td>\n",
       "      <td>378436354</td>\n",
       "      <td>Mad Max: Fury Road</td>\n",
       "      <td>Tom Hardy|Charlize Theron|Hugh Keays-Byrne|Nic...</td>\n",
       "      <td>http://www.madmaxmovie.com/</td>\n",
       "      <td>George Miller</td>\n",
       "      <td>What a Lovely Day.</td>\n",
       "      <td>...</td>\n",
       "      <td>An apocalyptic story set in the furthest reach...</td>\n",
       "      <td>120</td>\n",
       "      <td>Action|Adventure|Science Fiction|Thriller</td>\n",
       "      <td>Village Roadshow Pictures|Kennedy Miller Produ...</td>\n",
       "      <td>5/13/15</td>\n",
       "      <td>6185</td>\n",
       "      <td>7.100</td>\n",
       "      <td>2015</td>\n",
       "      <td>137999939.280</td>\n",
       "      <td>348161292.489</td>\n",
       "    </tr>\n",
       "    <tr>\n",
       "      <th>2</th>\n",
       "      <td>262500</td>\n",
       "      <td>tt2908446</td>\n",
       "      <td>13.113</td>\n",
       "      <td>110000000</td>\n",
       "      <td>295238201</td>\n",
       "      <td>Insurgent</td>\n",
       "      <td>Shailene Woodley|Theo James|Kate Winslet|Ansel...</td>\n",
       "      <td>http://www.thedivergentseries.movie/#insurgent</td>\n",
       "      <td>Robert Schwentke</td>\n",
       "      <td>One Choice Can Destroy You</td>\n",
       "      <td>...</td>\n",
       "      <td>Beatrice Prior must confront her inner demons ...</td>\n",
       "      <td>119</td>\n",
       "      <td>Adventure|Science Fiction|Thriller</td>\n",
       "      <td>Summit Entertainment|Mandeville Films|Red Wago...</td>\n",
       "      <td>3/18/15</td>\n",
       "      <td>2480</td>\n",
       "      <td>6.300</td>\n",
       "      <td>2015</td>\n",
       "      <td>101199955.472</td>\n",
       "      <td>271619025.408</td>\n",
       "    </tr>\n",
       "    <tr>\n",
       "      <th>3</th>\n",
       "      <td>140607</td>\n",
       "      <td>tt2488496</td>\n",
       "      <td>11.173</td>\n",
       "      <td>200000000</td>\n",
       "      <td>2068178225</td>\n",
       "      <td>Star Wars: The Force Awakens</td>\n",
       "      <td>Harrison Ford|Mark Hamill|Carrie Fisher|Adam D...</td>\n",
       "      <td>http://www.starwars.com/films/star-wars-episod...</td>\n",
       "      <td>J.J. Abrams</td>\n",
       "      <td>Every generation has a story.</td>\n",
       "      <td>...</td>\n",
       "      <td>Thirty years after defeating the Galactic Empi...</td>\n",
       "      <td>136</td>\n",
       "      <td>Action|Adventure|Science Fiction|Fantasy</td>\n",
       "      <td>Lucasfilm|Truenorth Productions|Bad Robot</td>\n",
       "      <td>12/15/15</td>\n",
       "      <td>5292</td>\n",
       "      <td>7.500</td>\n",
       "      <td>2015</td>\n",
       "      <td>183999919.040</td>\n",
       "      <td>1902723129.802</td>\n",
       "    </tr>\n",
       "    <tr>\n",
       "      <th>4</th>\n",
       "      <td>168259</td>\n",
       "      <td>tt2820852</td>\n",
       "      <td>9.335</td>\n",
       "      <td>190000000</td>\n",
       "      <td>1506249360</td>\n",
       "      <td>Furious 7</td>\n",
       "      <td>Vin Diesel|Paul Walker|Jason Statham|Michelle ...</td>\n",
       "      <td>http://www.furious7.com/</td>\n",
       "      <td>James Wan</td>\n",
       "      <td>Vengeance Hits Home</td>\n",
       "      <td>...</td>\n",
       "      <td>Deckard Shaw seeks revenge against Dominic Tor...</td>\n",
       "      <td>137</td>\n",
       "      <td>Action|Crime|Thriller</td>\n",
       "      <td>Universal Pictures|Original Film|Media Rights ...</td>\n",
       "      <td>4/1/15</td>\n",
       "      <td>2947</td>\n",
       "      <td>7.300</td>\n",
       "      <td>2015</td>\n",
       "      <td>174799923.088</td>\n",
       "      <td>1385748801.471</td>\n",
       "    </tr>\n",
       "  </tbody>\n",
       "</table>\n",
       "<p>5 rows × 21 columns</p>\n",
       "</div>"
      ],
      "text/plain": [
       "       id    imdb_id  popularity     budget     revenue  \\\n",
       "0  135397  tt0369610      32.986  150000000  1513528810   \n",
       "1   76341  tt1392190      28.420  150000000   378436354   \n",
       "2  262500  tt2908446      13.113  110000000   295238201   \n",
       "3  140607  tt2488496      11.173  200000000  2068178225   \n",
       "4  168259  tt2820852       9.335  190000000  1506249360   \n",
       "\n",
       "                 original_title  \\\n",
       "0                Jurassic World   \n",
       "1            Mad Max: Fury Road   \n",
       "2                     Insurgent   \n",
       "3  Star Wars: The Force Awakens   \n",
       "4                     Furious 7   \n",
       "\n",
       "                                                cast  \\\n",
       "0  Chris Pratt|Bryce Dallas Howard|Irrfan Khan|Vi...   \n",
       "1  Tom Hardy|Charlize Theron|Hugh Keays-Byrne|Nic...   \n",
       "2  Shailene Woodley|Theo James|Kate Winslet|Ansel...   \n",
       "3  Harrison Ford|Mark Hamill|Carrie Fisher|Adam D...   \n",
       "4  Vin Diesel|Paul Walker|Jason Statham|Michelle ...   \n",
       "\n",
       "                                            homepage          director  \\\n",
       "0                      http://www.jurassicworld.com/   Colin Trevorrow   \n",
       "1                        http://www.madmaxmovie.com/     George Miller   \n",
       "2     http://www.thedivergentseries.movie/#insurgent  Robert Schwentke   \n",
       "3  http://www.starwars.com/films/star-wars-episod...       J.J. Abrams   \n",
       "4                           http://www.furious7.com/         James Wan   \n",
       "\n",
       "                         tagline  ...  \\\n",
       "0              The park is open.  ...   \n",
       "1             What a Lovely Day.  ...   \n",
       "2     One Choice Can Destroy You  ...   \n",
       "3  Every generation has a story.  ...   \n",
       "4            Vengeance Hits Home  ...   \n",
       "\n",
       "                                            overview runtime  \\\n",
       "0  Twenty-two years after the events of Jurassic ...     124   \n",
       "1  An apocalyptic story set in the furthest reach...     120   \n",
       "2  Beatrice Prior must confront her inner demons ...     119   \n",
       "3  Thirty years after defeating the Galactic Empi...     136   \n",
       "4  Deckard Shaw seeks revenge against Dominic Tor...     137   \n",
       "\n",
       "                                      genres  \\\n",
       "0  Action|Adventure|Science Fiction|Thriller   \n",
       "1  Action|Adventure|Science Fiction|Thriller   \n",
       "2         Adventure|Science Fiction|Thriller   \n",
       "3   Action|Adventure|Science Fiction|Fantasy   \n",
       "4                      Action|Crime|Thriller   \n",
       "\n",
       "                                production_companies release_date vote_count  \\\n",
       "0  Universal Studios|Amblin Entertainment|Legenda...       6/9/15       5562   \n",
       "1  Village Roadshow Pictures|Kennedy Miller Produ...      5/13/15       6185   \n",
       "2  Summit Entertainment|Mandeville Films|Red Wago...      3/18/15       2480   \n",
       "3          Lucasfilm|Truenorth Productions|Bad Robot     12/15/15       5292   \n",
       "4  Universal Pictures|Original Film|Media Rights ...       4/1/15       2947   \n",
       "\n",
       "   vote_average  release_year    budget_adj    revenue_adj  \n",
       "0         6.500          2015 137999939.280 1392445892.524  \n",
       "1         7.100          2015 137999939.280  348161292.489  \n",
       "2         6.300          2015 101199955.472  271619025.408  \n",
       "3         7.500          2015 183999919.040 1902723129.802  \n",
       "4         7.300          2015 174799923.088 1385748801.471  \n",
       "\n",
       "[5 rows x 21 columns]"
      ]
     },
     "execution_count": 3,
     "metadata": {},
     "output_type": "execute_result"
    }
   ],
   "source": [
    "#viewing and inspecting data for properties and to determine necessary cleaning action\n",
    "df.info()\n",
    "df.head(5)"
   ]
  },
  {
   "cell_type": "code",
   "execution_count": 4,
   "metadata": {},
   "outputs": [
    {
     "data": {
      "text/plain": [
       "1"
      ]
     },
     "execution_count": 4,
     "metadata": {},
     "output_type": "execute_result"
    }
   ],
   "source": [
    "#checking for the number of duplicates in the data set.\n",
    "sum(df.duplicated())"
   ]
  },
  {
   "cell_type": "code",
   "execution_count": 5,
   "metadata": {},
   "outputs": [
    {
     "name": "stdout",
     "output_type": "stream",
     "text": [
      "duplicates in id:\n",
      "         id    imdb_id  popularity    budget  revenue original_title  \\\n",
      "2090  42194  tt0411951       0.596  30000000   967000         TEKKEN   \n",
      "\n",
      "                                                   cast homepage  \\\n",
      "2090  Jon Foo|Kelly Overton|Cary-Hiroyuki Tagawa|Ian...      NaN   \n",
      "\n",
      "              director              tagline  ...  \\\n",
      "2090  Dwight H. Little  Survival is no game  ...   \n",
      "\n",
      "                                               overview runtime  \\\n",
      "2090  In the year of 2039, after World Wars destroy ...      92   \n",
      "\n",
      "                                           genres    production_companies  \\\n",
      "2090  Crime|Drama|Action|Thriller|Science Fiction  Namco|Light Song Films   \n",
      "\n",
      "     release_date vote_count  vote_average  release_year   budget_adj  \\\n",
      "2090      3/20/10        110         5.000          2010 30000000.000   \n",
      "\n",
      "      revenue_adj  \n",
      "2090   967000.000  \n",
      "\n",
      "[1 rows x 21 columns]\n"
     ]
    }
   ],
   "source": [
    "#Viewing the row with the duplicate data\n",
    "new_duplicate= df[df.duplicated('id')]\n",
    "print('duplicates in id:')\n",
    "print(new_duplicate)"
   ]
  },
  {
   "cell_type": "code",
   "execution_count": 6,
   "metadata": {},
   "outputs": [
    {
     "data": {
      "text/plain": [
       "id                         0\n",
       "imdb_id                   10\n",
       "popularity                 0\n",
       "budget                     0\n",
       "revenue                    0\n",
       "original_title             0\n",
       "cast                      76\n",
       "homepage                7930\n",
       "director                  44\n",
       "tagline                 2824\n",
       "keywords                1493\n",
       "overview                   4\n",
       "runtime                    0\n",
       "genres                    23\n",
       "production_companies    1030\n",
       "release_date               0\n",
       "vote_count                 0\n",
       "vote_average               0\n",
       "release_year               0\n",
       "budget_adj                 0\n",
       "revenue_adj                0\n",
       "dtype: int64"
      ]
     },
     "execution_count": 6,
     "metadata": {},
     "output_type": "execute_result"
    }
   ],
   "source": [
    "#checking columns with null values\n",
    "df.isnull().sum()"
   ]
  },
  {
   "cell_type": "code",
   "execution_count": 7,
   "metadata": {},
   "outputs": [
    {
     "data": {
      "text/plain": [
       "10865"
      ]
     },
     "execution_count": 7,
     "metadata": {},
     "output_type": "execute_result"
    }
   ],
   "source": [
    "#Examining and confirming the number of unique values in the 'id' column\n",
    "df.id.nunique()"
   ]
  },
  {
   "cell_type": "markdown",
   "metadata": {},
   "source": [
    "From the inspection, it is noted that:\n",
    "-  Some columns have null values that need to be dropped and some data types need to be changed to the correct one to mirror the data in the column. \n",
    "-  It is also essential to rename some columns like the 'original_title' to 'title'. Since there is no second column with titles, it would make the data clearer to rename the 'original_title' to 'title'. \n",
    "-  Certain columns, like ‘cast’ and ‘genres’, contain multiple values separated by pipe (|) characters. It is necessary to change the pipe characters to comma.The lists in the genre column will be  expanded using the explode function. This will make easier to answer the question of genre with the average highest popularity.\n",
    "-  Columns like 'imdb_id'(incomplete), 'keywords', 'homepage', etc, will not be needed for the analysis, therefore need to be removed. These columns will not be beneficial in providing answers to the posed questions. The budget and revenue will also be removed and the budget_adj and revenue_adj columns will be used for the analysis. This is because the budget and revenue adjusted columns are calculated in terms of 2010 dollars, accounting for inflation.\n",
    "-  The 'id' column has one duplicate value that needs to be removed, this is because no two movies can have the same id, ids are unique to each movie.\n",
    "-  Rows that have zero (0) recorded as the information for budget and revenue will be removed.Since they will not be beneficial in providing any information during the analysis."
   ]
  },
  {
   "cell_type": "markdown",
   "metadata": {},
   "source": [
    "### Data Cleaning"
   ]
  },
  {
   "cell_type": "code",
   "execution_count": 8,
   "metadata": {},
   "outputs": [
    {
     "data": {
      "text/plain": [
       "Index(['id', 'popularity', 'original_title', 'cast', 'director', 'runtime',\n",
       "       'genres', 'production_companies', 'release_date', 'vote_count',\n",
       "       'vote_average', 'release_year', 'budget_adj', 'revenue_adj'],\n",
       "      dtype='object')"
      ]
     },
     "execution_count": 8,
     "metadata": {},
     "output_type": "execute_result"
    }
   ],
   "source": [
    "#Removing columns not needed for the analysis\n",
    "df.drop(['imdb_id', 'homepage', 'budget', 'revenue', 'tagline', 'keywords', 'overview'], axis=1, inplace=True)\n",
    "\n",
    "#confirm changes\n",
    "df.columns"
   ]
  },
  {
   "cell_type": "code",
   "execution_count": 9,
   "metadata": {},
   "outputs": [
    {
     "data": {
      "text/html": [
       "<div>\n",
       "<style scoped>\n",
       "    .dataframe tbody tr th:only-of-type {\n",
       "        vertical-align: middle;\n",
       "    }\n",
       "\n",
       "    .dataframe tbody tr th {\n",
       "        vertical-align: top;\n",
       "    }\n",
       "\n",
       "    .dataframe thead th {\n",
       "        text-align: right;\n",
       "    }\n",
       "</style>\n",
       "<table border=\"1\" class=\"dataframe\">\n",
       "  <thead>\n",
       "    <tr style=\"text-align: right;\">\n",
       "      <th></th>\n",
       "      <th>id</th>\n",
       "      <th>popularity</th>\n",
       "      <th>title</th>\n",
       "      <th>cast</th>\n",
       "      <th>director</th>\n",
       "      <th>runtime</th>\n",
       "      <th>genres</th>\n",
       "      <th>production_companies</th>\n",
       "      <th>release_date</th>\n",
       "      <th>vote_count</th>\n",
       "      <th>vote_average</th>\n",
       "      <th>release_year</th>\n",
       "      <th>budget_adj</th>\n",
       "      <th>revenue_adj</th>\n",
       "    </tr>\n",
       "  </thead>\n",
       "  <tbody>\n",
       "    <tr>\n",
       "      <th>0</th>\n",
       "      <td>135397</td>\n",
       "      <td>32.986</td>\n",
       "      <td>Jurassic World</td>\n",
       "      <td>Chris Pratt|Bryce Dallas Howard|Irrfan Khan|Vi...</td>\n",
       "      <td>Colin Trevorrow</td>\n",
       "      <td>124</td>\n",
       "      <td>Action|Adventure|Science Fiction|Thriller</td>\n",
       "      <td>Universal Studios|Amblin Entertainment|Legenda...</td>\n",
       "      <td>6/9/15</td>\n",
       "      <td>5562</td>\n",
       "      <td>6.500</td>\n",
       "      <td>2015</td>\n",
       "      <td>137999939.280</td>\n",
       "      <td>1392445892.524</td>\n",
       "    </tr>\n",
       "  </tbody>\n",
       "</table>\n",
       "</div>"
      ],
      "text/plain": [
       "       id  popularity           title  \\\n",
       "0  135397      32.986  Jurassic World   \n",
       "\n",
       "                                                cast         director  \\\n",
       "0  Chris Pratt|Bryce Dallas Howard|Irrfan Khan|Vi...  Colin Trevorrow   \n",
       "\n",
       "   runtime                                     genres  \\\n",
       "0      124  Action|Adventure|Science Fiction|Thriller   \n",
       "\n",
       "                                production_companies release_date  vote_count  \\\n",
       "0  Universal Studios|Amblin Entertainment|Legenda...       6/9/15        5562   \n",
       "\n",
       "   vote_average  release_year    budget_adj    revenue_adj  \n",
       "0         6.500          2015 137999939.280 1392445892.524  "
      ]
     },
     "execution_count": 9,
     "metadata": {},
     "output_type": "execute_result"
    }
   ],
   "source": [
    "#Renaming the columns\n",
    "df.rename(columns = {'original_title':'title'}, inplace=True)\n",
    "\n",
    "# confirm changes\n",
    "df.head(1)"
   ]
  },
  {
   "cell_type": "code",
   "execution_count": 10,
   "metadata": {},
   "outputs": [
    {
     "data": {
      "text/html": [
       "<div>\n",
       "<style scoped>\n",
       "    .dataframe tbody tr th:only-of-type {\n",
       "        vertical-align: middle;\n",
       "    }\n",
       "\n",
       "    .dataframe tbody tr th {\n",
       "        vertical-align: top;\n",
       "    }\n",
       "\n",
       "    .dataframe thead th {\n",
       "        text-align: right;\n",
       "    }\n",
       "</style>\n",
       "<table border=\"1\" class=\"dataframe\">\n",
       "  <thead>\n",
       "    <tr style=\"text-align: right;\">\n",
       "      <th></th>\n",
       "      <th>count</th>\n",
       "      <th>mean</th>\n",
       "      <th>std</th>\n",
       "      <th>min</th>\n",
       "      <th>25%</th>\n",
       "      <th>50%</th>\n",
       "      <th>75%</th>\n",
       "      <th>max</th>\n",
       "    </tr>\n",
       "  </thead>\n",
       "  <tbody>\n",
       "    <tr>\n",
       "      <th>revenue_adj</th>\n",
       "      <td>4850.000</td>\n",
       "      <td>115077354.868</td>\n",
       "      <td>198841916.050</td>\n",
       "      <td>2.371</td>\n",
       "      <td>10462622.835</td>\n",
       "      <td>43927485.544</td>\n",
       "      <td>131564380.456</td>\n",
       "      <td>2827123750.412</td>\n",
       "    </tr>\n",
       "  </tbody>\n",
       "</table>\n",
       "</div>"
      ],
      "text/plain": [
       "               count          mean           std   min          25%  \\\n",
       "revenue_adj 4850.000 115077354.868 198841916.050 2.371 10462622.835   \n",
       "\n",
       "                     50%           75%            max  \n",
       "revenue_adj 43927485.544 131564380.456 2827123750.412  "
      ]
     },
     "execution_count": 10,
     "metadata": {},
     "output_type": "execute_result"
    }
   ],
   "source": [
    "#Removes rows with values as zero\n",
    "df['revenue_adj'] = df['revenue_adj'].replace(0, np.nan)\n",
    "\n",
    "df['budget_adj'] = df['budget_adj'].replace(0, np.nan)\n",
    "\n",
    "#confirms to check that zero values were actuall removed from the revenue_adj and budget_adj columns\n",
    "df['revenue_adj'].describe().to_frame().T"
   ]
  },
  {
   "cell_type": "code",
   "execution_count": 11,
   "metadata": {},
   "outputs": [],
   "source": [
    "#Removing null values\n",
    "df.dropna(inplace=True)"
   ]
  },
  {
   "cell_type": "code",
   "execution_count": 12,
   "metadata": {},
   "outputs": [
    {
     "data": {
      "text/plain": [
       "False"
      ]
     },
     "execution_count": 12,
     "metadata": {},
     "output_type": "execute_result"
    }
   ],
   "source": [
    "#confirming that no column still has null values\n",
    "df.isnull().sum().any()"
   ]
  },
  {
   "cell_type": "code",
   "execution_count": 13,
   "metadata": {},
   "outputs": [
    {
     "data": {
      "text/plain": [
       "0"
      ]
     },
     "execution_count": 13,
     "metadata": {},
     "output_type": "execute_result"
    }
   ],
   "source": [
    "#Removing duplicates\n",
    "df.drop_duplicates(inplace=True)\n",
    "\n",
    "#confirming that there are no more duplicates\n",
    "sum(df.duplicated())"
   ]
  },
  {
   "cell_type": "code",
   "execution_count": 14,
   "metadata": {},
   "outputs": [
    {
     "data": {
      "text/html": [
       "<div>\n",
       "<style scoped>\n",
       "    .dataframe tbody tr th:only-of-type {\n",
       "        vertical-align: middle;\n",
       "    }\n",
       "\n",
       "    .dataframe tbody tr th {\n",
       "        vertical-align: top;\n",
       "    }\n",
       "\n",
       "    .dataframe thead th {\n",
       "        text-align: right;\n",
       "    }\n",
       "</style>\n",
       "<table border=\"1\" class=\"dataframe\">\n",
       "  <thead>\n",
       "    <tr style=\"text-align: right;\">\n",
       "      <th></th>\n",
       "      <th>id</th>\n",
       "      <th>popularity</th>\n",
       "      <th>title</th>\n",
       "      <th>cast</th>\n",
       "      <th>director</th>\n",
       "      <th>runtime</th>\n",
       "      <th>genres</th>\n",
       "      <th>production_companies</th>\n",
       "      <th>release_date</th>\n",
       "      <th>vote_count</th>\n",
       "      <th>vote_average</th>\n",
       "      <th>release_year</th>\n",
       "      <th>budget_adj</th>\n",
       "      <th>revenue_adj</th>\n",
       "    </tr>\n",
       "  </thead>\n",
       "  <tbody>\n",
       "    <tr>\n",
       "      <th>0</th>\n",
       "      <td>135397</td>\n",
       "      <td>32.986</td>\n",
       "      <td>Jurassic World</td>\n",
       "      <td>Chris Pratt|Bryce Dallas Howard|Irrfan Khan|Vi...</td>\n",
       "      <td>Colin Trevorrow</td>\n",
       "      <td>124</td>\n",
       "      <td>Action</td>\n",
       "      <td>Universal Studios|Amblin Entertainment|Legenda...</td>\n",
       "      <td>6/9/15</td>\n",
       "      <td>5562</td>\n",
       "      <td>6.500</td>\n",
       "      <td>2015</td>\n",
       "      <td>137999939.280</td>\n",
       "      <td>1392445892.524</td>\n",
       "    </tr>\n",
       "    <tr>\n",
       "      <th>0</th>\n",
       "      <td>135397</td>\n",
       "      <td>32.986</td>\n",
       "      <td>Jurassic World</td>\n",
       "      <td>Chris Pratt|Bryce Dallas Howard|Irrfan Khan|Vi...</td>\n",
       "      <td>Colin Trevorrow</td>\n",
       "      <td>124</td>\n",
       "      <td>Adventure</td>\n",
       "      <td>Universal Studios|Amblin Entertainment|Legenda...</td>\n",
       "      <td>6/9/15</td>\n",
       "      <td>5562</td>\n",
       "      <td>6.500</td>\n",
       "      <td>2015</td>\n",
       "      <td>137999939.280</td>\n",
       "      <td>1392445892.524</td>\n",
       "    </tr>\n",
       "    <tr>\n",
       "      <th>0</th>\n",
       "      <td>135397</td>\n",
       "      <td>32.986</td>\n",
       "      <td>Jurassic World</td>\n",
       "      <td>Chris Pratt|Bryce Dallas Howard|Irrfan Khan|Vi...</td>\n",
       "      <td>Colin Trevorrow</td>\n",
       "      <td>124</td>\n",
       "      <td>Science Fiction</td>\n",
       "      <td>Universal Studios|Amblin Entertainment|Legenda...</td>\n",
       "      <td>6/9/15</td>\n",
       "      <td>5562</td>\n",
       "      <td>6.500</td>\n",
       "      <td>2015</td>\n",
       "      <td>137999939.280</td>\n",
       "      <td>1392445892.524</td>\n",
       "    </tr>\n",
       "  </tbody>\n",
       "</table>\n",
       "</div>"
      ],
      "text/plain": [
       "       id  popularity           title  \\\n",
       "0  135397      32.986  Jurassic World   \n",
       "0  135397      32.986  Jurassic World   \n",
       "0  135397      32.986  Jurassic World   \n",
       "\n",
       "                                                cast         director  \\\n",
       "0  Chris Pratt|Bryce Dallas Howard|Irrfan Khan|Vi...  Colin Trevorrow   \n",
       "0  Chris Pratt|Bryce Dallas Howard|Irrfan Khan|Vi...  Colin Trevorrow   \n",
       "0  Chris Pratt|Bryce Dallas Howard|Irrfan Khan|Vi...  Colin Trevorrow   \n",
       "\n",
       "   runtime           genres  \\\n",
       "0      124           Action   \n",
       "0      124        Adventure   \n",
       "0      124  Science Fiction   \n",
       "\n",
       "                                production_companies release_date  vote_count  \\\n",
       "0  Universal Studios|Amblin Entertainment|Legenda...       6/9/15        5562   \n",
       "0  Universal Studios|Amblin Entertainment|Legenda...       6/9/15        5562   \n",
       "0  Universal Studios|Amblin Entertainment|Legenda...       6/9/15        5562   \n",
       "\n",
       "   vote_average  release_year    budget_adj    revenue_adj  \n",
       "0         6.500          2015 137999939.280 1392445892.524  \n",
       "0         6.500          2015 137999939.280 1392445892.524  \n",
       "0         6.500          2015 137999939.280 1392445892.524  "
      ]
     },
     "execution_count": 14,
     "metadata": {},
     "output_type": "execute_result"
    }
   ],
   "source": [
    "# split genres string, at |, explode the list to rows\n",
    "genres_df = df.assign(genres=df['genres'].str.split('|')).explode('genres')\n",
    "\n",
    "#viewing new dataframe with split genres\n",
    "genres_df.head(3)"
   ]
  },
  {
   "cell_type": "code",
   "execution_count": 15,
   "metadata": {
    "scrolled": true
   },
   "outputs": [
    {
     "data": {
      "text/html": [
       "<div>\n",
       "<style scoped>\n",
       "    .dataframe tbody tr th:only-of-type {\n",
       "        vertical-align: middle;\n",
       "    }\n",
       "\n",
       "    .dataframe tbody tr th {\n",
       "        vertical-align: top;\n",
       "    }\n",
       "\n",
       "    .dataframe thead th {\n",
       "        text-align: right;\n",
       "    }\n",
       "</style>\n",
       "<table border=\"1\" class=\"dataframe\">\n",
       "  <thead>\n",
       "    <tr style=\"text-align: right;\">\n",
       "      <th></th>\n",
       "      <th>id</th>\n",
       "      <th>popularity</th>\n",
       "      <th>title</th>\n",
       "      <th>cast</th>\n",
       "      <th>director</th>\n",
       "      <th>runtime</th>\n",
       "      <th>genres</th>\n",
       "      <th>production_companies</th>\n",
       "      <th>release_date</th>\n",
       "      <th>vote_count</th>\n",
       "      <th>vote_average</th>\n",
       "      <th>release_year</th>\n",
       "      <th>budget_adj</th>\n",
       "      <th>revenue_adj</th>\n",
       "    </tr>\n",
       "  </thead>\n",
       "  <tbody>\n",
       "    <tr>\n",
       "      <th>0</th>\n",
       "      <td>135397</td>\n",
       "      <td>32.986</td>\n",
       "      <td>Jurassic World</td>\n",
       "      <td>Chris Pratt</td>\n",
       "      <td>Colin Trevorrow</td>\n",
       "      <td>124</td>\n",
       "      <td>Action|Adventure|Science Fiction|Thriller</td>\n",
       "      <td>Universal Studios|Amblin Entertainment|Legenda...</td>\n",
       "      <td>6/9/15</td>\n",
       "      <td>5562</td>\n",
       "      <td>6.500</td>\n",
       "      <td>2015</td>\n",
       "      <td>137999939.280</td>\n",
       "      <td>1392445892.524</td>\n",
       "    </tr>\n",
       "    <tr>\n",
       "      <th>0</th>\n",
       "      <td>135397</td>\n",
       "      <td>32.986</td>\n",
       "      <td>Jurassic World</td>\n",
       "      <td>Bryce Dallas Howard</td>\n",
       "      <td>Colin Trevorrow</td>\n",
       "      <td>124</td>\n",
       "      <td>Action|Adventure|Science Fiction|Thriller</td>\n",
       "      <td>Universal Studios|Amblin Entertainment|Legenda...</td>\n",
       "      <td>6/9/15</td>\n",
       "      <td>5562</td>\n",
       "      <td>6.500</td>\n",
       "      <td>2015</td>\n",
       "      <td>137999939.280</td>\n",
       "      <td>1392445892.524</td>\n",
       "    </tr>\n",
       "    <tr>\n",
       "      <th>0</th>\n",
       "      <td>135397</td>\n",
       "      <td>32.986</td>\n",
       "      <td>Jurassic World</td>\n",
       "      <td>Irrfan Khan</td>\n",
       "      <td>Colin Trevorrow</td>\n",
       "      <td>124</td>\n",
       "      <td>Action|Adventure|Science Fiction|Thriller</td>\n",
       "      <td>Universal Studios|Amblin Entertainment|Legenda...</td>\n",
       "      <td>6/9/15</td>\n",
       "      <td>5562</td>\n",
       "      <td>6.500</td>\n",
       "      <td>2015</td>\n",
       "      <td>137999939.280</td>\n",
       "      <td>1392445892.524</td>\n",
       "    </tr>\n",
       "  </tbody>\n",
       "</table>\n",
       "</div>"
      ],
      "text/plain": [
       "       id  popularity           title                 cast         director  \\\n",
       "0  135397      32.986  Jurassic World          Chris Pratt  Colin Trevorrow   \n",
       "0  135397      32.986  Jurassic World  Bryce Dallas Howard  Colin Trevorrow   \n",
       "0  135397      32.986  Jurassic World          Irrfan Khan  Colin Trevorrow   \n",
       "\n",
       "   runtime                                     genres  \\\n",
       "0      124  Action|Adventure|Science Fiction|Thriller   \n",
       "0      124  Action|Adventure|Science Fiction|Thriller   \n",
       "0      124  Action|Adventure|Science Fiction|Thriller   \n",
       "\n",
       "                                production_companies release_date  vote_count  \\\n",
       "0  Universal Studios|Amblin Entertainment|Legenda...       6/9/15        5562   \n",
       "0  Universal Studios|Amblin Entertainment|Legenda...       6/9/15        5562   \n",
       "0  Universal Studios|Amblin Entertainment|Legenda...       6/9/15        5562   \n",
       "\n",
       "   vote_average  release_year    budget_adj    revenue_adj  \n",
       "0         6.500          2015 137999939.280 1392445892.524  \n",
       "0         6.500          2015 137999939.280 1392445892.524  \n",
       "0         6.500          2015 137999939.280 1392445892.524  "
      ]
     },
     "execution_count": 15,
     "metadata": {},
     "output_type": "execute_result"
    }
   ],
   "source": [
    "# split cast string, at |, explode the list to rows\n",
    "cast_df = df.assign(cast=df['cast'].str.split('|')).explode('cast')\n",
    "\n",
    "#viewing new dataframe with split cast\n",
    "cast_df.head(3)"
   ]
  },
  {
   "cell_type": "code",
   "execution_count": 16,
   "metadata": {},
   "outputs": [
    {
     "data": {
      "text/html": [
       "<div>\n",
       "<style scoped>\n",
       "    .dataframe tbody tr th:only-of-type {\n",
       "        vertical-align: middle;\n",
       "    }\n",
       "\n",
       "    .dataframe tbody tr th {\n",
       "        vertical-align: top;\n",
       "    }\n",
       "\n",
       "    .dataframe thead th {\n",
       "        text-align: right;\n",
       "    }\n",
       "</style>\n",
       "<table border=\"1\" class=\"dataframe\">\n",
       "  <thead>\n",
       "    <tr style=\"text-align: right;\">\n",
       "      <th></th>\n",
       "      <th>id</th>\n",
       "      <th>popularity</th>\n",
       "      <th>title</th>\n",
       "      <th>cast</th>\n",
       "      <th>director</th>\n",
       "      <th>runtime</th>\n",
       "      <th>genres</th>\n",
       "      <th>production_companies</th>\n",
       "      <th>release_date</th>\n",
       "      <th>vote_count</th>\n",
       "      <th>vote_average</th>\n",
       "      <th>release_year</th>\n",
       "      <th>budget_adj</th>\n",
       "      <th>revenue_adj</th>\n",
       "    </tr>\n",
       "  </thead>\n",
       "  <tbody>\n",
       "    <tr>\n",
       "      <th>0</th>\n",
       "      <td>135397</td>\n",
       "      <td>32.986</td>\n",
       "      <td>Jurassic World</td>\n",
       "      <td>Chris Pratt|Bryce Dallas Howard|Irrfan Khan|Vi...</td>\n",
       "      <td>Colin Trevorrow</td>\n",
       "      <td>124</td>\n",
       "      <td>Action|Adventure|Science Fiction|Thriller</td>\n",
       "      <td>Universal Studios</td>\n",
       "      <td>6/9/15</td>\n",
       "      <td>5562</td>\n",
       "      <td>6.500</td>\n",
       "      <td>2015</td>\n",
       "      <td>137999939.280</td>\n",
       "      <td>1392445892.524</td>\n",
       "    </tr>\n",
       "    <tr>\n",
       "      <th>0</th>\n",
       "      <td>135397</td>\n",
       "      <td>32.986</td>\n",
       "      <td>Jurassic World</td>\n",
       "      <td>Chris Pratt|Bryce Dallas Howard|Irrfan Khan|Vi...</td>\n",
       "      <td>Colin Trevorrow</td>\n",
       "      <td>124</td>\n",
       "      <td>Action|Adventure|Science Fiction|Thriller</td>\n",
       "      <td>Amblin Entertainment</td>\n",
       "      <td>6/9/15</td>\n",
       "      <td>5562</td>\n",
       "      <td>6.500</td>\n",
       "      <td>2015</td>\n",
       "      <td>137999939.280</td>\n",
       "      <td>1392445892.524</td>\n",
       "    </tr>\n",
       "    <tr>\n",
       "      <th>0</th>\n",
       "      <td>135397</td>\n",
       "      <td>32.986</td>\n",
       "      <td>Jurassic World</td>\n",
       "      <td>Chris Pratt|Bryce Dallas Howard|Irrfan Khan|Vi...</td>\n",
       "      <td>Colin Trevorrow</td>\n",
       "      <td>124</td>\n",
       "      <td>Action|Adventure|Science Fiction|Thriller</td>\n",
       "      <td>Legendary Pictures</td>\n",
       "      <td>6/9/15</td>\n",
       "      <td>5562</td>\n",
       "      <td>6.500</td>\n",
       "      <td>2015</td>\n",
       "      <td>137999939.280</td>\n",
       "      <td>1392445892.524</td>\n",
       "    </tr>\n",
       "  </tbody>\n",
       "</table>\n",
       "</div>"
      ],
      "text/plain": [
       "       id  popularity           title  \\\n",
       "0  135397      32.986  Jurassic World   \n",
       "0  135397      32.986  Jurassic World   \n",
       "0  135397      32.986  Jurassic World   \n",
       "\n",
       "                                                cast         director  \\\n",
       "0  Chris Pratt|Bryce Dallas Howard|Irrfan Khan|Vi...  Colin Trevorrow   \n",
       "0  Chris Pratt|Bryce Dallas Howard|Irrfan Khan|Vi...  Colin Trevorrow   \n",
       "0  Chris Pratt|Bryce Dallas Howard|Irrfan Khan|Vi...  Colin Trevorrow   \n",
       "\n",
       "   runtime                                     genres  production_companies  \\\n",
       "0      124  Action|Adventure|Science Fiction|Thriller     Universal Studios   \n",
       "0      124  Action|Adventure|Science Fiction|Thriller  Amblin Entertainment   \n",
       "0      124  Action|Adventure|Science Fiction|Thriller    Legendary Pictures   \n",
       "\n",
       "  release_date  vote_count  vote_average  release_year    budget_adj  \\\n",
       "0       6/9/15        5562         6.500          2015 137999939.280   \n",
       "0       6/9/15        5562         6.500          2015 137999939.280   \n",
       "0       6/9/15        5562         6.500          2015 137999939.280   \n",
       "\n",
       "     revenue_adj  \n",
       "0 1392445892.524  \n",
       "0 1392445892.524  \n",
       "0 1392445892.524  "
      ]
     },
     "execution_count": 16,
     "metadata": {},
     "output_type": "execute_result"
    }
   ],
   "source": [
    "# split production companies string, at |, explode the list to rows\n",
    "prodcompanies_df = df.assign(production_companies=df['production_companies'].str.split('|')).explode('production_companies')\n",
    "\n",
    "#viewing new dataframe with production copanies split\n",
    "prodcompanies_df.head(3)"
   ]
  },
  {
   "cell_type": "code",
   "execution_count": 17,
   "metadata": {},
   "outputs": [
    {
     "data": {
      "text/plain": [
       "id                                int64\n",
       "popularity                      float64\n",
       "title                            object\n",
       "cast                             object\n",
       "director                         object\n",
       "runtime                 timedelta64[ns]\n",
       "genres                           object\n",
       "production_companies             object\n",
       "release_date             datetime64[ns]\n",
       "vote_count                        int64\n",
       "vote_average                    float64\n",
       "release_year                      int64\n",
       "budget_adj                      float64\n",
       "revenue_adj                     float64\n",
       "dtype: object"
      ]
     },
     "execution_count": 17,
     "metadata": {},
     "output_type": "execute_result"
    }
   ],
   "source": [
    "#changing data type\n",
    "df['release_date'] = pd.to_datetime(df['release_date'])\n",
    "\n",
    "df['runtime'] = pd.to_timedelta(df['runtime'], unit='m')\n",
    "#confirming changes\n",
    "df.dtypes"
   ]
  },
  {
   "cell_type": "code",
   "execution_count": 18,
   "metadata": {},
   "outputs": [
    {
     "data": {
      "text/plain": [
       "Index(['id', 'popularity', 'title', 'cast', 'director', 'runtime', 'genres',\n",
       "       'production_companies', 'release_date', 'vote_count', 'vote_average',\n",
       "       'release_year', 'budget_adj', 'revenue_adj', 'profit'],\n",
       "      dtype='object')"
      ]
     },
     "execution_count": 18,
     "metadata": {},
     "output_type": "execute_result"
    }
   ],
   "source": [
    "#creating new column for profit\n",
    "df['profit'] = df['revenue_adj'] - df['budget_adj']\n",
    "\n",
    "#confirming new column\n",
    "df.columns"
   ]
  },
  {
   "cell_type": "code",
   "execution_count": 19,
   "metadata": {},
   "outputs": [],
   "source": [
    "#setting index column\n",
    "df.set_index('id', inplace=True)"
   ]
  },
  {
   "cell_type": "code",
   "execution_count": 20,
   "metadata": {},
   "outputs": [
    {
     "data": {
      "text/html": [
       "<div>\n",
       "<style scoped>\n",
       "    .dataframe tbody tr th:only-of-type {\n",
       "        vertical-align: middle;\n",
       "    }\n",
       "\n",
       "    .dataframe tbody tr th {\n",
       "        vertical-align: top;\n",
       "    }\n",
       "\n",
       "    .dataframe thead th {\n",
       "        text-align: right;\n",
       "    }\n",
       "</style>\n",
       "<table border=\"1\" class=\"dataframe\">\n",
       "  <thead>\n",
       "    <tr style=\"text-align: right;\">\n",
       "      <th></th>\n",
       "      <th>popularity</th>\n",
       "      <th>runtime</th>\n",
       "      <th>vote_count</th>\n",
       "      <th>vote_average</th>\n",
       "      <th>release_year</th>\n",
       "      <th>budget_adj</th>\n",
       "      <th>revenue_adj</th>\n",
       "      <th>profit</th>\n",
       "    </tr>\n",
       "  </thead>\n",
       "  <tbody>\n",
       "    <tr>\n",
       "      <th>count</th>\n",
       "      <td>3805.000</td>\n",
       "      <td>3805</td>\n",
       "      <td>3805.000</td>\n",
       "      <td>3805.000</td>\n",
       "      <td>3805.000</td>\n",
       "      <td>3805.000</td>\n",
       "      <td>3805.000</td>\n",
       "      <td>3805.000</td>\n",
       "    </tr>\n",
       "    <tr>\n",
       "      <th>mean</th>\n",
       "      <td>1.204</td>\n",
       "      <td>0 days 01:49:21.067017082</td>\n",
       "      <td>534.159</td>\n",
       "      <td>6.171</td>\n",
       "      <td>2001.229</td>\n",
       "      <td>44719765.293</td>\n",
       "      <td>138715934.346</td>\n",
       "      <td>93996169.053</td>\n",
       "    </tr>\n",
       "    <tr>\n",
       "      <th>std</th>\n",
       "      <td>1.481</td>\n",
       "      <td>0 days 00:19:50.740660110</td>\n",
       "      <td>883.758</td>\n",
       "      <td>0.792</td>\n",
       "      <td>11.330</td>\n",
       "      <td>44886971.833</td>\n",
       "      <td>216997311.358</td>\n",
       "      <td>195033249.656</td>\n",
       "    </tr>\n",
       "    <tr>\n",
       "      <th>min</th>\n",
       "      <td>0.010</td>\n",
       "      <td>0 days 00:15:00</td>\n",
       "      <td>10.000</td>\n",
       "      <td>2.200</td>\n",
       "      <td>1960.000</td>\n",
       "      <td>0.969</td>\n",
       "      <td>2.371</td>\n",
       "      <td>-413912431.000</td>\n",
       "    </tr>\n",
       "    <tr>\n",
       "      <th>25%</th>\n",
       "      <td>0.471</td>\n",
       "      <td>0 days 01:36:00</td>\n",
       "      <td>74.000</td>\n",
       "      <td>5.700</td>\n",
       "      <td>1995.000</td>\n",
       "      <td>13546369.284</td>\n",
       "      <td>19253711.018</td>\n",
       "      <td>-1420000.000</td>\n",
       "    </tr>\n",
       "    <tr>\n",
       "      <th>50%</th>\n",
       "      <td>0.811</td>\n",
       "      <td>0 days 01:46:00</td>\n",
       "      <td>209.000</td>\n",
       "      <td>6.200</td>\n",
       "      <td>2004.000</td>\n",
       "      <td>30383599.014</td>\n",
       "      <td>62846878.294</td>\n",
       "      <td>28513340.200</td>\n",
       "    </tr>\n",
       "    <tr>\n",
       "      <th>75%</th>\n",
       "      <td>1.387</td>\n",
       "      <td>0 days 01:59:00</td>\n",
       "      <td>584.000</td>\n",
       "      <td>6.700</td>\n",
       "      <td>2010.000</td>\n",
       "      <td>60841527.993</td>\n",
       "      <td>165805400.340</td>\n",
       "      <td>109026621.437</td>\n",
       "    </tr>\n",
       "    <tr>\n",
       "      <th>max</th>\n",
       "      <td>32.986</td>\n",
       "      <td>0 days 05:38:00</td>\n",
       "      <td>9767.000</td>\n",
       "      <td>8.400</td>\n",
       "      <td>2015.000</td>\n",
       "      <td>425000000.000</td>\n",
       "      <td>2827123750.412</td>\n",
       "      <td>2750136650.919</td>\n",
       "    </tr>\n",
       "  </tbody>\n",
       "</table>\n",
       "</div>"
      ],
      "text/plain": [
       "       popularity                    runtime  vote_count  vote_average  \\\n",
       "count    3805.000                       3805    3805.000      3805.000   \n",
       "mean        1.204  0 days 01:49:21.067017082     534.159         6.171   \n",
       "std         1.481  0 days 00:19:50.740660110     883.758         0.792   \n",
       "min         0.010            0 days 00:15:00      10.000         2.200   \n",
       "25%         0.471            0 days 01:36:00      74.000         5.700   \n",
       "50%         0.811            0 days 01:46:00     209.000         6.200   \n",
       "75%         1.387            0 days 01:59:00     584.000         6.700   \n",
       "max        32.986            0 days 05:38:00    9767.000         8.400   \n",
       "\n",
       "       release_year    budget_adj    revenue_adj         profit  \n",
       "count      3805.000      3805.000       3805.000       3805.000  \n",
       "mean       2001.229  44719765.293  138715934.346   93996169.053  \n",
       "std          11.330  44886971.833  216997311.358  195033249.656  \n",
       "min        1960.000         0.969          2.371 -413912431.000  \n",
       "25%        1995.000  13546369.284   19253711.018   -1420000.000  \n",
       "50%        2004.000  30383599.014   62846878.294   28513340.200  \n",
       "75%        2010.000  60841527.993  165805400.340  109026621.437  \n",
       "max        2015.000 425000000.000 2827123750.412 2750136650.919  "
      ]
     },
     "execution_count": 20,
     "metadata": {},
     "output_type": "execute_result"
    }
   ],
   "source": [
    "#confirming that no zero values exist\n",
    "df.describe()"
   ]
  },
  {
   "cell_type": "code",
   "execution_count": 21,
   "metadata": {},
   "outputs": [
    {
     "name": "stdout",
     "output_type": "stream",
     "text": [
      "<class 'pandas.core.frame.DataFrame'>\n",
      "Int64Index: 3805 entries, 135397 to 2161\n",
      "Data columns (total 14 columns):\n",
      " #   Column                Non-Null Count  Dtype          \n",
      "---  ------                --------------  -----          \n",
      " 0   popularity            3805 non-null   float64        \n",
      " 1   title                 3805 non-null   object         \n",
      " 2   cast                  3805 non-null   object         \n",
      " 3   director              3805 non-null   object         \n",
      " 4   runtime               3805 non-null   timedelta64[ns]\n",
      " 5   genres                3805 non-null   object         \n",
      " 6   production_companies  3805 non-null   object         \n",
      " 7   release_date          3805 non-null   datetime64[ns] \n",
      " 8   vote_count            3805 non-null   int64          \n",
      " 9   vote_average          3805 non-null   float64        \n",
      " 10  release_year          3805 non-null   int64          \n",
      " 11  budget_adj            3805 non-null   float64        \n",
      " 12  revenue_adj           3805 non-null   float64        \n",
      " 13  profit                3805 non-null   float64        \n",
      "dtypes: datetime64[ns](1), float64(5), int64(2), object(5), timedelta64[ns](1)\n",
      "memory usage: 445.9+ KB\n"
     ]
    }
   ],
   "source": [
    "#Confirming details of dataset after cleaning\n",
    "df.info()"
   ]
  },
  {
   "cell_type": "markdown",
   "metadata": {},
   "source": [
    "<a id='eda'></a>\n",
    "## Exploratory Data Analysis\n",
    "\n",
    "\n",
    "\n",
    "### Histogram for various movie properties."
   ]
  },
  {
   "cell_type": "code",
   "execution_count": 22,
   "metadata": {},
   "outputs": [],
   "source": [
    "#plotting a histogram for the budget adj\n",
    "def myhist(df, xVar):\n",
    "    \n",
    "    # A simple function created to avoid code repetition. It is to be used in plotting histograms of various movie properties within this notebook.\n",
    "    #inputs : variables to be plotted\n",
    "    #outputs: scatter plots of dependent variables against independent variable.\n",
    "    \n",
    "    #Plots\n",
    "    fig, axis = plt.subplots(figsize =(14, 7))\n",
    "    plt.hist(data=df, x=xVar);\n",
    "    \n",
    "    #Formats chart titles and labels\n",
    "    #Formats x-axis\n",
    "    plt.xlabel(xVar.title(), fontsize=15)\n",
    "    \n",
    "    #Formats y-axis\n",
    "    plt.ylabel('Frequency', fontsize=15)\n",
    "    \n",
    "    #Adds title to the top of histogram\n",
    "    plt.title(f'Histogram of {xVar}'.title(), fontsize=18, weight=\"bold\")"
   ]
  },
  {
   "cell_type": "code",
   "execution_count": 23,
   "metadata": {},
   "outputs": [
    {
     "data": {
      "text/plain": [
       "Text(0.5, 0, 'Budget Adj ($)')"
      ]
     },
     "execution_count": 23,
     "metadata": {},
     "output_type": "execute_result"
    },
    {
     "data": {
      "image/png": "[encoded data removed]",
      "text/plain": [
       "<Figure size 1008x504 with 1 Axes>"
      ]
     },
     "metadata": {},
     "output_type": "display_data"
    }
   ],
   "source": [
    "#Calls histogram function and creates histogram for budget adj\n",
    "\n",
    "myhist(df, 'budget_adj')\n",
    "plt.xlabel('Budget Adj ($)', fontsize=15)"
   ]
  },
  {
   "cell_type": "markdown",
   "metadata": {},
   "source": [
    "> The histogram of budget adj is positively skewed. "
   ]
  },
  {
   "cell_type": "code",
   "execution_count": 24,
   "metadata": {},
   "outputs": [
    {
     "data": {
      "text/plain": [
       "Text(0.5, 0, 'Revenue Adj ($)')"
      ]
     },
     "execution_count": 24,
     "metadata": {},
     "output_type": "execute_result"
    },
    {
     "data": {
      "image/png": "[encoded data removed]",
      "text/plain": [
       "<Figure size 1008x504 with 1 Axes>"
      ]
     },
     "metadata": {},
     "output_type": "display_data"
    }
   ],
   "source": [
    "#Calls histogram function and creates histogram for revenue adj\n",
    "myhist(df, 'revenue_adj')\n",
    "plt.xlabel('Revenue Adj ($)', fontsize=15)"
   ]
  },
  {
   "cell_type": "markdown",
   "metadata": {},
   "source": [
    "> The histogram of revenue adj is rightly skewed. "
   ]
  },
  {
   "cell_type": "code",
   "execution_count": 25,
   "metadata": {},
   "outputs": [
    {
     "data": {
      "image/png": "[encoded data removed]",
      "text/plain": [
       "<Figure size 1008x504 with 1 Axes>"
      ]
     },
     "metadata": {},
     "output_type": "display_data"
    }
   ],
   "source": [
    "#Calls histogram function\n",
    "myhist(df, 'vote_average')"
   ]
  },
  {
   "cell_type": "markdown",
   "metadata": {},
   "source": [
    "> The vote_average histogram is skewed to the left (negative skew), implying that the mean is less than the median. It does appear to be moderately skewed to the left, however, a statistical test is required to determine the skewness value or number."
   ]
  },
  {
   "cell_type": "code",
   "execution_count": 26,
   "metadata": {},
   "outputs": [
    {
     "data": {
      "text/plain": [
       "Text(0.5, 0, 'Profit ($)')"
      ]
     },
     "execution_count": 26,
     "metadata": {},
     "output_type": "execute_result"
    },
    {
     "data": {
      "image/png": "[encoded data removed]",
      "text/plain": [
       "<Figure size 1008x504 with 1 Axes>"
      ]
     },
     "metadata": {},
     "output_type": "display_data"
    }
   ],
   "source": [
    "#Calls histogram function\n",
    "myhist(df, 'profit')\n",
    "plt.xlabel('Profit ($)', fontsize=15)"
   ]
  },
  {
   "cell_type": "markdown",
   "metadata": {},
   "source": [
    "> The histogram of revenue adj is highly skewed to the right (positive skew). "
   ]
  },
  {
   "cell_type": "code",
   "execution_count": 27,
   "metadata": {},
   "outputs": [
    {
     "data": {
      "image/png": "[encoded data removed]",
      "text/plain": [
       "<Figure size 1008x504 with 1 Axes>"
      ]
     },
     "metadata": {},
     "output_type": "display_data"
    }
   ],
   "source": [
    "#Calls histogram function\n",
    "myhist(df, 'release_year')"
   ]
  },
  {
   "cell_type": "markdown",
   "metadata": {},
   "source": [
    "> The above histogram indicates that as majority of movies within the dataset were produced or released between 2005 to 2015. This graph is negatively skewed. "
   ]
  },
  {
   "cell_type": "markdown",
   "metadata": {},
   "source": [
    "### Question 1: What are the characteristics of highly rated movies?"
   ]
  },
  {
   "cell_type": "markdown",
   "metadata": {},
   "source": [
    "**For movie ratings, the vote_average column will be used to represent ratings. Categories were generated based on the percentile values as:\n",
    "\n",
    "- Poor = below 25th percentile\n",
    "- Average = between 25th -50th\n",
    "- Very Good = between 50th - 75th\n",
    "- Excellent  = above the 75th\n",
    "\n",
    "**Categories: Poor, Average, Very Good, Excellent."
   ]
  },
  {
   "cell_type": "code",
   "execution_count": 28,
   "metadata": {},
   "outputs": [
    {
     "data": {
      "text/plain": [
       "min   2.200\n",
       "25%   5.700\n",
       "50%   6.200\n",
       "75%   6.700\n",
       "max   8.400\n",
       "Name: vote_average, dtype: float64"
      ]
     },
     "execution_count": 28,
     "metadata": {},
     "output_type": "execute_result"
    }
   ],
   "source": [
    "#Creating categories\n",
    "df.describe().vote_average.loc[['min', '25%', '50%', '75%', 'max']]"
   ]
  },
  {
   "cell_type": "code",
   "execution_count": 29,
   "metadata": {},
   "outputs": [],
   "source": [
    "#Bin egdes that will be used for categorizing\n",
    "bin_edges = df.describe().vote_average.loc[['min', '25%', '50%', '75%', 'max']].values\n",
    "\n",
    "#labels for the four categories of rating\n",
    "bin_names = ['poor', 'average', 'very_good', 'excellent']"
   ]
  },
  {
   "cell_type": "code",
   "execution_count": 30,
   "metadata": {},
   "outputs": [
    {
     "data": {
      "text/html": [
       "<div>\n",
       "<style scoped>\n",
       "    .dataframe tbody tr th:only-of-type {\n",
       "        vertical-align: middle;\n",
       "    }\n",
       "\n",
       "    .dataframe tbody tr th {\n",
       "        vertical-align: top;\n",
       "    }\n",
       "\n",
       "    .dataframe thead th {\n",
       "        text-align: right;\n",
       "    }\n",
       "</style>\n",
       "<table border=\"1\" class=\"dataframe\">\n",
       "  <thead>\n",
       "    <tr style=\"text-align: right;\">\n",
       "      <th></th>\n",
       "      <th>popularity</th>\n",
       "      <th>title</th>\n",
       "      <th>cast</th>\n",
       "      <th>director</th>\n",
       "      <th>runtime</th>\n",
       "      <th>genres</th>\n",
       "      <th>production_companies</th>\n",
       "      <th>release_date</th>\n",
       "      <th>vote_count</th>\n",
       "      <th>vote_average</th>\n",
       "      <th>release_year</th>\n",
       "      <th>budget_adj</th>\n",
       "      <th>revenue_adj</th>\n",
       "      <th>profit</th>\n",
       "      <th>rating_cat</th>\n",
       "    </tr>\n",
       "    <tr>\n",
       "      <th>id</th>\n",
       "      <th></th>\n",
       "      <th></th>\n",
       "      <th></th>\n",
       "      <th></th>\n",
       "      <th></th>\n",
       "      <th></th>\n",
       "      <th></th>\n",
       "      <th></th>\n",
       "      <th></th>\n",
       "      <th></th>\n",
       "      <th></th>\n",
       "      <th></th>\n",
       "      <th></th>\n",
       "      <th></th>\n",
       "      <th></th>\n",
       "    </tr>\n",
       "  </thead>\n",
       "  <tbody>\n",
       "    <tr>\n",
       "      <th>135397</th>\n",
       "      <td>32.986</td>\n",
       "      <td>Jurassic World</td>\n",
       "      <td>Chris Pratt|Bryce Dallas Howard|Irrfan Khan|Vi...</td>\n",
       "      <td>Colin Trevorrow</td>\n",
       "      <td>0 days 02:04:00</td>\n",
       "      <td>Action|Adventure|Science Fiction|Thriller</td>\n",
       "      <td>Universal Studios|Amblin Entertainment|Legenda...</td>\n",
       "      <td>2015-06-09</td>\n",
       "      <td>5562</td>\n",
       "      <td>6.500</td>\n",
       "      <td>2015</td>\n",
       "      <td>137999939.280</td>\n",
       "      <td>1392445892.524</td>\n",
       "      <td>1254445953.244</td>\n",
       "      <td>very_good</td>\n",
       "    </tr>\n",
       "  </tbody>\n",
       "</table>\n",
       "</div>"
      ],
      "text/plain": [
       "        popularity           title  \\\n",
       "id                                   \n",
       "135397      32.986  Jurassic World   \n",
       "\n",
       "                                                     cast         director  \\\n",
       "id                                                                           \n",
       "135397  Chris Pratt|Bryce Dallas Howard|Irrfan Khan|Vi...  Colin Trevorrow   \n",
       "\n",
       "               runtime                                     genres  \\\n",
       "id                                                                  \n",
       "135397 0 days 02:04:00  Action|Adventure|Science Fiction|Thriller   \n",
       "\n",
       "                                     production_companies release_date  \\\n",
       "id                                                                       \n",
       "135397  Universal Studios|Amblin Entertainment|Legenda...   2015-06-09   \n",
       "\n",
       "        vote_count  vote_average  release_year    budget_adj    revenue_adj  \\\n",
       "id                                                                            \n",
       "135397        5562         6.500          2015 137999939.280 1392445892.524   \n",
       "\n",
       "               profit rating_cat  \n",
       "id                                \n",
       "135397 1254445953.244  very_good  "
      ]
     },
     "execution_count": 30,
     "metadata": {},
     "output_type": "execute_result"
    }
   ],
   "source": [
    "#creates rating category column\n",
    "df['rating_cat'] = pd.cut(df['vote_average'], bin_edges, labels=bin_names)\n",
    "\n",
    "#checking for successful creation of the rating_cat column\n",
    "df.head(1)"
   ]
  },
  {
   "cell_type": "code",
   "execution_count": 31,
   "metadata": {},
   "outputs": [
    {
     "data": {
      "text/plain": [
       "<bound method Series.unique of id\n",
       "135397    very_good\n",
       "76341     excellent\n",
       "262500    very_good\n",
       "140607    excellent\n",
       "168259    excellent\n",
       "            ...    \n",
       "396       excellent\n",
       "5780      very_good\n",
       "6644      excellent\n",
       "5923      excellent\n",
       "2161      very_good\n",
       "Name: rating_cat, Length: 3805, dtype: category\n",
       "Categories (4, object): ['poor' < 'average' < 'very_good' < 'excellent']>"
      ]
     },
     "execution_count": 31,
     "metadata": {},
     "output_type": "execute_result"
    }
   ],
   "source": [
    "df.rating_cat.unique"
   ]
  },
  {
   "cell_type": "code",
   "execution_count": 32,
   "metadata": {},
   "outputs": [],
   "source": [
    "#Gets all highly rated movies, that is movies that are rated excellent.\n",
    "df_highlyrated = df.query('rating_cat == \"excellent\"')"
   ]
  },
  {
   "cell_type": "code",
   "execution_count": 33,
   "metadata": {},
   "outputs": [
    {
     "data": {
      "text/html": [
       "<div>\n",
       "<style scoped>\n",
       "    .dataframe tbody tr th:only-of-type {\n",
       "        vertical-align: middle;\n",
       "    }\n",
       "\n",
       "    .dataframe tbody tr th {\n",
       "        vertical-align: top;\n",
       "    }\n",
       "\n",
       "    .dataframe thead th {\n",
       "        text-align: right;\n",
       "    }\n",
       "</style>\n",
       "<table border=\"1\" class=\"dataframe\">\n",
       "  <thead>\n",
       "    <tr style=\"text-align: right;\">\n",
       "      <th></th>\n",
       "      <th>popularity</th>\n",
       "      <th>runtime</th>\n",
       "      <th>vote_count</th>\n",
       "      <th>vote_average</th>\n",
       "      <th>release_year</th>\n",
       "      <th>budget_adj</th>\n",
       "      <th>revenue_adj</th>\n",
       "      <th>profit</th>\n",
       "    </tr>\n",
       "  </thead>\n",
       "  <tbody>\n",
       "    <tr>\n",
       "      <th>count</th>\n",
       "      <td>891.000</td>\n",
       "      <td>891</td>\n",
       "      <td>891.000</td>\n",
       "      <td>891.000</td>\n",
       "      <td>891.000</td>\n",
       "      <td>891.000</td>\n",
       "      <td>891.000</td>\n",
       "      <td>891.000</td>\n",
       "    </tr>\n",
       "    <tr>\n",
       "      <th>mean</th>\n",
       "      <td>1.944</td>\n",
       "      <td>0 days 01:59:10.707070707</td>\n",
       "      <td>1083.451</td>\n",
       "      <td>7.181</td>\n",
       "      <td>1998.530</td>\n",
       "      <td>45275442.066</td>\n",
       "      <td>225124254.954</td>\n",
       "      <td>179848812.888</td>\n",
       "    </tr>\n",
       "    <tr>\n",
       "      <th>std</th>\n",
       "      <td>2.216</td>\n",
       "      <td>0 days 00:24:06.679209584</td>\n",
       "      <td>1376.075</td>\n",
       "      <td>0.323</td>\n",
       "      <td>13.891</td>\n",
       "      <td>48913624.695</td>\n",
       "      <td>326977566.202</td>\n",
       "      <td>298943272.507</td>\n",
       "    </tr>\n",
       "    <tr>\n",
       "      <th>min</th>\n",
       "      <td>0.018</td>\n",
       "      <td>0 days 00:15:00</td>\n",
       "      <td>10.000</td>\n",
       "      <td>6.800</td>\n",
       "      <td>1960.000</td>\n",
       "      <td>3.000</td>\n",
       "      <td>2.862</td>\n",
       "      <td>-118534968.140</td>\n",
       "    </tr>\n",
       "    <tr>\n",
       "      <th>25%</th>\n",
       "      <td>0.680</td>\n",
       "      <td>0 days 01:42:00</td>\n",
       "      <td>186.500</td>\n",
       "      <td>6.900</td>\n",
       "      <td>1990.000</td>\n",
       "      <td>12628236.627</td>\n",
       "      <td>34147655.261</td>\n",
       "      <td>12511419.738</td>\n",
       "    </tr>\n",
       "    <tr>\n",
       "      <th>50%</th>\n",
       "      <td>1.255</td>\n",
       "      <td>0 days 01:56:00</td>\n",
       "      <td>549.000</td>\n",
       "      <td>7.100</td>\n",
       "      <td>2002.000</td>\n",
       "      <td>28143759.025</td>\n",
       "      <td>102264882.236</td>\n",
       "      <td>67011247.109</td>\n",
       "    </tr>\n",
       "    <tr>\n",
       "      <th>75%</th>\n",
       "      <td>2.468</td>\n",
       "      <td>0 days 02:12:00</td>\n",
       "      <td>1414.000</td>\n",
       "      <td>7.400</td>\n",
       "      <td>2010.000</td>\n",
       "      <td>59645888.697</td>\n",
       "      <td>269366878.522</td>\n",
       "      <td>219599799.777</td>\n",
       "    </tr>\n",
       "    <tr>\n",
       "      <th>max</th>\n",
       "      <td>28.420</td>\n",
       "      <td>0 days 03:36:00</td>\n",
       "      <td>9767.000</td>\n",
       "      <td>8.400</td>\n",
       "      <td>2015.000</td>\n",
       "      <td>315500574.789</td>\n",
       "      <td>2827123750.412</td>\n",
       "      <td>2750136650.919</td>\n",
       "    </tr>\n",
       "  </tbody>\n",
       "</table>\n",
       "</div>"
      ],
      "text/plain": [
       "       popularity                    runtime  vote_count  vote_average  \\\n",
       "count     891.000                        891     891.000       891.000   \n",
       "mean        1.944  0 days 01:59:10.707070707    1083.451         7.181   \n",
       "std         2.216  0 days 00:24:06.679209584    1376.075         0.323   \n",
       "min         0.018            0 days 00:15:00      10.000         6.800   \n",
       "25%         0.680            0 days 01:42:00     186.500         6.900   \n",
       "50%         1.255            0 days 01:56:00     549.000         7.100   \n",
       "75%         2.468            0 days 02:12:00    1414.000         7.400   \n",
       "max        28.420            0 days 03:36:00    9767.000         8.400   \n",
       "\n",
       "       release_year    budget_adj    revenue_adj         profit  \n",
       "count       891.000       891.000        891.000        891.000  \n",
       "mean       1998.530  45275442.066  225124254.954  179848812.888  \n",
       "std          13.891  48913624.695  326977566.202  298943272.507  \n",
       "min        1960.000         3.000          2.862 -118534968.140  \n",
       "25%        1990.000  12628236.627   34147655.261   12511419.738  \n",
       "50%        2002.000  28143759.025  102264882.236   67011247.109  \n",
       "75%        2010.000  59645888.697  269366878.522  219599799.777  \n",
       "max        2015.000 315500574.789 2827123750.412 2750136650.919  "
      ]
     },
     "execution_count": 33,
     "metadata": {},
     "output_type": "execute_result"
    }
   ],
   "source": [
    "#Explores highly rated movies\n",
    "df_highlyrated.describe()"
   ]
  },
  {
   "cell_type": "code",
   "execution_count": 34,
   "metadata": {},
   "outputs": [
    {
     "data": {
      "text/html": [
       "<div>\n",
       "<style scoped>\n",
       "    .dataframe tbody tr th:only-of-type {\n",
       "        vertical-align: middle;\n",
       "    }\n",
       "\n",
       "    .dataframe tbody tr th {\n",
       "        vertical-align: top;\n",
       "    }\n",
       "\n",
       "    .dataframe thead th {\n",
       "        text-align: right;\n",
       "    }\n",
       "</style>\n",
       "<table border=\"1\" class=\"dataframe\">\n",
       "  <thead>\n",
       "    <tr style=\"text-align: right;\">\n",
       "      <th></th>\n",
       "      <th>popularity</th>\n",
       "      <th>runtime</th>\n",
       "      <th>vote_count</th>\n",
       "      <th>vote_average</th>\n",
       "      <th>release_year</th>\n",
       "      <th>budget_adj</th>\n",
       "      <th>revenue_adj</th>\n",
       "      <th>profit</th>\n",
       "    </tr>\n",
       "  </thead>\n",
       "  <tbody>\n",
       "    <tr>\n",
       "      <th>count</th>\n",
       "      <td>2914.000</td>\n",
       "      <td>2914</td>\n",
       "      <td>2914.000</td>\n",
       "      <td>2914.000</td>\n",
       "      <td>2914.000</td>\n",
       "      <td>2914.000</td>\n",
       "      <td>2914.000</td>\n",
       "      <td>2914.000</td>\n",
       "    </tr>\n",
       "    <tr>\n",
       "      <th>mean</th>\n",
       "      <td>0.977</td>\n",
       "      <td>0 days 01:46:20.775566231</td>\n",
       "      <td>366.205</td>\n",
       "      <td>5.862</td>\n",
       "      <td>2002.055</td>\n",
       "      <td>44549858.634</td>\n",
       "      <td>112295270.770</td>\n",
       "      <td>67745412.136</td>\n",
       "    </tr>\n",
       "    <tr>\n",
       "      <th>std</th>\n",
       "      <td>1.069</td>\n",
       "      <td>0 days 00:17:15.979886138</td>\n",
       "      <td>566.457</td>\n",
       "      <td>0.617</td>\n",
       "      <td>10.284</td>\n",
       "      <td>43589107.751</td>\n",
       "      <td>160758673.907</td>\n",
       "      <td>139372846.253</td>\n",
       "    </tr>\n",
       "    <tr>\n",
       "      <th>min</th>\n",
       "      <td>0.010</td>\n",
       "      <td>0 days 01:06:00</td>\n",
       "      <td>10.000</td>\n",
       "      <td>2.200</td>\n",
       "      <td>1961.000</td>\n",
       "      <td>0.969</td>\n",
       "      <td>2.371</td>\n",
       "      <td>-413912431.000</td>\n",
       "    </tr>\n",
       "    <tr>\n",
       "      <th>25%</th>\n",
       "      <td>0.438</td>\n",
       "      <td>0 days 01:35:00</td>\n",
       "      <td>61.000</td>\n",
       "      <td>5.500</td>\n",
       "      <td>1997.000</td>\n",
       "      <td>13820330.034</td>\n",
       "      <td>17032873.048</td>\n",
       "      <td>-3898591.373</td>\n",
       "    </tr>\n",
       "    <tr>\n",
       "      <th>50%</th>\n",
       "      <td>0.736</td>\n",
       "      <td>0 days 01:43:00</td>\n",
       "      <td>166.000</td>\n",
       "      <td>6.000</td>\n",
       "      <td>2005.000</td>\n",
       "      <td>31010368.681</td>\n",
       "      <td>54042496.039</td>\n",
       "      <td>19690945.206</td>\n",
       "    </tr>\n",
       "    <tr>\n",
       "      <th>75%</th>\n",
       "      <td>1.204</td>\n",
       "      <td>0 days 01:55:00</td>\n",
       "      <td>411.750</td>\n",
       "      <td>6.300</td>\n",
       "      <td>2010.000</td>\n",
       "      <td>61116055.007</td>\n",
       "      <td>139231766.912</td>\n",
       "      <td>85106433.643</td>\n",
       "    </tr>\n",
       "    <tr>\n",
       "      <th>max</th>\n",
       "      <td>32.986</td>\n",
       "      <td>0 days 05:38:00</td>\n",
       "      <td>7080.000</td>\n",
       "      <td>6.700</td>\n",
       "      <td>2015.000</td>\n",
       "      <td>425000000.000</td>\n",
       "      <td>1583049536.352</td>\n",
       "      <td>1551568265.276</td>\n",
       "    </tr>\n",
       "  </tbody>\n",
       "</table>\n",
       "</div>"
      ],
      "text/plain": [
       "       popularity                    runtime  vote_count  vote_average  \\\n",
       "count    2914.000                       2914    2914.000      2914.000   \n",
       "mean        0.977  0 days 01:46:20.775566231     366.205         5.862   \n",
       "std         1.069  0 days 00:17:15.979886138     566.457         0.617   \n",
       "min         0.010            0 days 01:06:00      10.000         2.200   \n",
       "25%         0.438            0 days 01:35:00      61.000         5.500   \n",
       "50%         0.736            0 days 01:43:00     166.000         6.000   \n",
       "75%         1.204            0 days 01:55:00     411.750         6.300   \n",
       "max        32.986            0 days 05:38:00    7080.000         6.700   \n",
       "\n",
       "       release_year    budget_adj    revenue_adj         profit  \n",
       "count      2914.000      2914.000       2914.000       2914.000  \n",
       "mean       2002.055  44549858.634  112295270.770   67745412.136  \n",
       "std          10.284  43589107.751  160758673.907  139372846.253  \n",
       "min        1961.000         0.969          2.371 -413912431.000  \n",
       "25%        1997.000  13820330.034   17032873.048   -3898591.373  \n",
       "50%        2005.000  31010368.681   54042496.039   19690945.206  \n",
       "75%        2010.000  61116055.007  139231766.912   85106433.643  \n",
       "max        2015.000 425000000.000 1583049536.352 1551568265.276  "
      ]
     },
     "execution_count": 34,
     "metadata": {},
     "output_type": "execute_result"
    }
   ],
   "source": [
    "#Determine the average budget,revenue,popularity,and profit of the dataset where rating is not equals 'excellent' and compare it to the means of the same variables in the highly rated movies.\n",
    "#This will help us know whether movies that are rated highly have mean budget, revenue, popularity and profit above the average in the dataset.\n",
    "\n",
    "df_otherrating = df.query('rating_cat != \"excellent\"')\n",
    "\n",
    "df_otherrating.describe()"
   ]
  },
  {
   "cell_type": "markdown",
   "metadata": {},
   "source": [
    "> From the analysis of question one, it can be seen that there are 891 movies that have been rated excellent. It is safe to say that the characteristics of highly rated movies are budget of atleast 3.000 dollars; revenue of atleast 28,619,340 dollars; deficit of -118535000 dollars; and popularity of atleast 0.0177. \n",
    "> It can be concluded that the minimum budget for a highly rated movie is 3.000dollars which is most likely a data entry error because no movie producer can set out making a film with only 3.000 dollars allotted. Even though this is the case, this budget is higher than that found in other rating categories. However, the popularity of movies rated excellent is more than that of movies in the other rating categories."
   ]
  },
  {
   "cell_type": "markdown",
   "metadata": {},
   "source": [
    "### Question 2:  What kinds of properties are associated with movies with high revenues?"
   ]
  },
  {
   "cell_type": "code",
   "execution_count": 35,
   "metadata": {},
   "outputs": [],
   "source": [
    "#High revenue means that the movie revenue exceeds the average revenue in the dataset.\n",
    "\n",
    "#Gets the features of all movies with revenue greater the average revenue in the dataset.\n",
    "df_toprevenue = df.query('revenue_adj > revenue_adj.mean()')"
   ]
  },
  {
   "cell_type": "code",
   "execution_count": 36,
   "metadata": {},
   "outputs": [
    {
     "data": {
      "text/html": [
       "<div>\n",
       "<style scoped>\n",
       "    .dataframe tbody tr th:only-of-type {\n",
       "        vertical-align: middle;\n",
       "    }\n",
       "\n",
       "    .dataframe tbody tr th {\n",
       "        vertical-align: top;\n",
       "    }\n",
       "\n",
       "    .dataframe thead th {\n",
       "        text-align: right;\n",
       "    }\n",
       "</style>\n",
       "<table border=\"1\" class=\"dataframe\">\n",
       "  <thead>\n",
       "    <tr style=\"text-align: right;\">\n",
       "      <th></th>\n",
       "      <th>popularity</th>\n",
       "      <th>runtime</th>\n",
       "      <th>vote_count</th>\n",
       "      <th>vote_average</th>\n",
       "      <th>release_year</th>\n",
       "      <th>budget_adj</th>\n",
       "      <th>revenue_adj</th>\n",
       "      <th>profit</th>\n",
       "    </tr>\n",
       "  </thead>\n",
       "  <tbody>\n",
       "    <tr>\n",
       "      <th>count</th>\n",
       "      <td>1109.000</td>\n",
       "      <td>1109</td>\n",
       "      <td>1109.000</td>\n",
       "      <td>1109.000</td>\n",
       "      <td>1109.000</td>\n",
       "      <td>1109.000</td>\n",
       "      <td>1109.000</td>\n",
       "      <td>1109.000</td>\n",
       "    </tr>\n",
       "    <tr>\n",
       "      <th>mean</th>\n",
       "      <td>2.136</td>\n",
       "      <td>0 days 01:56:38.845807033</td>\n",
       "      <td>1201.192</td>\n",
       "      <td>6.432</td>\n",
       "      <td>1999.752</td>\n",
       "      <td>82663310.410</td>\n",
       "      <td>369613234.515</td>\n",
       "      <td>286949924.104</td>\n",
       "    </tr>\n",
       "    <tr>\n",
       "      <th>std</th>\n",
       "      <td>2.219</td>\n",
       "      <td>0 days 00:22:27.890222873</td>\n",
       "      <td>1297.990</td>\n",
       "      <td>0.720</td>\n",
       "      <td>12.445</td>\n",
       "      <td>55141690.414</td>\n",
       "      <td>287800554.701</td>\n",
       "      <td>273218729.804</td>\n",
       "    </tr>\n",
       "    <tr>\n",
       "      <th>min</th>\n",
       "      <td>0.132</td>\n",
       "      <td>0 days 01:09:00</td>\n",
       "      <td>13.000</td>\n",
       "      <td>4.100</td>\n",
       "      <td>1960.000</td>\n",
       "      <td>224.803</td>\n",
       "      <td>138781054.170</td>\n",
       "      <td>-22499925.117</td>\n",
       "    </tr>\n",
       "    <tr>\n",
       "      <th>25%</th>\n",
       "      <td>1.012</td>\n",
       "      <td>0 days 01:40:00</td>\n",
       "      <td>332.000</td>\n",
       "      <td>5.900</td>\n",
       "      <td>1994.000</td>\n",
       "      <td>39720012.163</td>\n",
       "      <td>188297310.747</td>\n",
       "      <td>127593303.658</td>\n",
       "    </tr>\n",
       "    <tr>\n",
       "      <th>50%</th>\n",
       "      <td>1.588</td>\n",
       "      <td>0 days 01:54:00</td>\n",
       "      <td>728.000</td>\n",
       "      <td>6.400</td>\n",
       "      <td>2003.000</td>\n",
       "      <td>73010601.514</td>\n",
       "      <td>269859485.334</td>\n",
       "      <td>196672765.406</td>\n",
       "    </tr>\n",
       "    <tr>\n",
       "      <th>75%</th>\n",
       "      <td>2.523</td>\n",
       "      <td>0 days 02:10:00</td>\n",
       "      <td>1611.000</td>\n",
       "      <td>7.000</td>\n",
       "      <td>2010.000</td>\n",
       "      <td>113969313.762</td>\n",
       "      <td>440959531.357</td>\n",
       "      <td>353945311.979</td>\n",
       "    </tr>\n",
       "    <tr>\n",
       "      <th>max</th>\n",
       "      <td>32.986</td>\n",
       "      <td>0 days 04:08:00</td>\n",
       "      <td>9767.000</td>\n",
       "      <td>8.300</td>\n",
       "      <td>2015.000</td>\n",
       "      <td>368371256.185</td>\n",
       "      <td>2827123750.412</td>\n",
       "      <td>2750136650.919</td>\n",
       "    </tr>\n",
       "  </tbody>\n",
       "</table>\n",
       "</div>"
      ],
      "text/plain": [
       "       popularity                    runtime  vote_count  vote_average  \\\n",
       "count    1109.000                       1109    1109.000      1109.000   \n",
       "mean        2.136  0 days 01:56:38.845807033    1201.192         6.432   \n",
       "std         2.219  0 days 00:22:27.890222873    1297.990         0.720   \n",
       "min         0.132            0 days 01:09:00      13.000         4.100   \n",
       "25%         1.012            0 days 01:40:00     332.000         5.900   \n",
       "50%         1.588            0 days 01:54:00     728.000         6.400   \n",
       "75%         2.523            0 days 02:10:00    1611.000         7.000   \n",
       "max        32.986            0 days 04:08:00    9767.000         8.300   \n",
       "\n",
       "       release_year    budget_adj    revenue_adj         profit  \n",
       "count      1109.000      1109.000       1109.000       1109.000  \n",
       "mean       1999.752  82663310.410  369613234.515  286949924.104  \n",
       "std          12.445  55141690.414  287800554.701  273218729.804  \n",
       "min        1960.000       224.803  138781054.170  -22499925.117  \n",
       "25%        1994.000  39720012.163  188297310.747  127593303.658  \n",
       "50%        2003.000  73010601.514  269859485.334  196672765.406  \n",
       "75%        2010.000 113969313.762  440959531.357  353945311.979  \n",
       "max        2015.000 368371256.185 2827123750.412 2750136650.919  "
      ]
     },
     "execution_count": 36,
     "metadata": {},
     "output_type": "execute_result"
    }
   ],
   "source": [
    "df_toprevenue.describe()"
   ]
  },
  {
   "cell_type": "markdown",
   "metadata": {},
   "source": [
    "> Movies that have high revenues have a minimum budget of 224.80 dollars and maximum profit of 2,750,137,000. These high grossing movies also have a mean rating of 6.432"
   ]
  },
  {
   "cell_type": "markdown",
   "metadata": {},
   "source": [
    "### Question 3: Which three movies have the highest all time profit?"
   ]
  },
  {
   "cell_type": "code",
   "execution_count": 37,
   "metadata": {},
   "outputs": [
    {
     "data": {
      "image/png": "[encoded data removed]",
      "text/plain": [
       "<Figure size 864x504 with 1 Axes>"
      ]
     },
     "metadata": {},
     "output_type": "display_data"
    }
   ],
   "source": [
    "# Plotting bar chart for the three most profitable movies.\n",
    "\n",
    "#Assigning data for plotting\n",
    "cols = ['title', 'profit']\n",
    "profit_df = df.sort_values('profit', ascending=False)[cols].set_index('title')\n",
    "top_3 = profit_df.head(3)\n",
    "\n",
    "#Plotting bar chart showing the top three movies with the highest profit\n",
    "fig, ax = plt.subplots(figsize=(12, 7))\n",
    "sb.barplot(data=top_3, y=top_3.index, x='profit', palette= 'Blues');\n",
    "\n",
    "plt.xticks(ha='left', rotation=0, fontsize=16, weight='bold'); \n",
    "plt.yticks(fontsize=16, weight='bold')\n",
    "\n",
    "#Setting labels/titles for axis\n",
    "plt.xlabel('Profit($)', fontsize = 18, weight = \"bold\")\n",
    "plt.ylabel('Title', fontsize = 18, weight = \"bold\")\n",
    "\n",
    "#Adding title of chart\n",
    "plt.title('Top 3 Most Profitable Movies', fontsize=20, weight='bold');"
   ]
  },
  {
   "cell_type": "code",
   "execution_count": 38,
   "metadata": {},
   "outputs": [
    {
     "data": {
      "text/html": [
       "<div>\n",
       "<style scoped>\n",
       "    .dataframe tbody tr th:only-of-type {\n",
       "        vertical-align: middle;\n",
       "    }\n",
       "\n",
       "    .dataframe tbody tr th {\n",
       "        vertical-align: top;\n",
       "    }\n",
       "\n",
       "    .dataframe thead th {\n",
       "        text-align: right;\n",
       "    }\n",
       "</style>\n",
       "<table border=\"1\" class=\"dataframe\">\n",
       "  <thead>\n",
       "    <tr style=\"text-align: right;\">\n",
       "      <th></th>\n",
       "      <th>release_year</th>\n",
       "      <th>profit</th>\n",
       "    </tr>\n",
       "    <tr>\n",
       "      <th>title</th>\n",
       "      <th></th>\n",
       "      <th></th>\n",
       "    </tr>\n",
       "  </thead>\n",
       "  <tbody>\n",
       "    <tr>\n",
       "      <th>Star Wars</th>\n",
       "      <td>1977</td>\n",
       "      <td>2750136650.919</td>\n",
       "    </tr>\n",
       "    <tr>\n",
       "      <th>Avatar</th>\n",
       "      <td>2009</td>\n",
       "      <td>2586236847.524</td>\n",
       "    </tr>\n",
       "    <tr>\n",
       "      <th>Titanic</th>\n",
       "      <td>1997</td>\n",
       "      <td>2234713671.205</td>\n",
       "    </tr>\n",
       "  </tbody>\n",
       "</table>\n",
       "</div>"
      ],
      "text/plain": [
       "           release_year         profit\n",
       "title                                 \n",
       "Star Wars          1977 2750136650.919\n",
       "Avatar             2009 2586236847.524\n",
       "Titanic            1997 2234713671.205"
      ]
     },
     "execution_count": 38,
     "metadata": {},
     "output_type": "execute_result"
    }
   ],
   "source": [
    "# checking the release year of the three most profitable movies\n",
    "sort_df=df.sort_values('profit', ascending=False).set_index('title')\n",
    "sort_df[['release_year', 'profit']].head(3)"
   ]
  },
  {
   "cell_type": "markdown",
   "metadata": {},
   "source": [
    "> The top 3 movies with the highest profit are Star Wars, Avatar and Titanic. The Interesting observation to note is the year in which these movies were released. The latest movie in the dataset was released in the year 2015, yet none of them have made profits to surpass 'Star Wars' produced more than a decade before."
   ]
  },
  {
   "cell_type": "markdown",
   "metadata": {},
   "source": [
    "### Question 4: What are the top ten most rated movies?"
   ]
  },
  {
   "cell_type": "code",
   "execution_count": 39,
   "metadata": {},
   "outputs": [
    {
     "data": {
      "image/png": "[encoded data removed]",
      "text/plain": [
       "<Figure size 1008x504 with 1 Axes>"
      ]
     },
     "metadata": {},
     "output_type": "display_data"
    }
   ],
   "source": [
    "# Plotting bar chart for the top ten highly rated movies.\n",
    "\n",
    "#Assigning data for plotting\n",
    "cols = ['title', 'vote_average']\n",
    "rating_df = df.sort_values('vote_average', ascending=False)[cols].set_index('title')\n",
    "top_10= rating_df.head(10)\n",
    "\n",
    "#Plotting bar chart showing the top three movies with the highest profit\n",
    "fig, ax = plt.subplots(figsize=(14, 7))\n",
    "sb.barplot(data=top_10, y=top_10.index, x='vote_average', hue='vote_average');\n",
    "\n",
    "plt.xticks(ha='center', rotation=0, fontsize=15, weight=\"bold\");\n",
    "plt.yticks(fontsize=15)\n",
    "\n",
    "#Setting labels/titles for axis\n",
    "plt.xlabel('Ratings', fontsize = 18, weight = \"bold\")\n",
    "plt.ylabel('Title', fontsize = 18, weight = \"bold\")\n",
    "\n",
    "#Adding title of chart and legend for rating values\n",
    "plt.title('The Top Ten Mosted Rated Movies', fontsize=20);\n",
    "plt.legend(loc='center left', bbox_to_anchor=(1, 0.5),\n",
    "           title=\"Rating\", title_fontsize = 14);"
   ]
  },
  {
   "cell_type": "markdown",
   "metadata": {},
   "source": [
    "> The top ten most rated movies can be seen in the above bar graph. The top ten highly rated movies are not necessarily the ones with the highest profit. There are two movies with the highest rating in the dataset, namely; 'The Shawshank Redemption' and 'Stop Making Sense'."
   ]
  },
  {
   "cell_type": "markdown",
   "metadata": {},
   "source": [
    "### Research Question 5: Is there a relationship between popularity, revenue and rating?"
   ]
  },
  {
   "cell_type": "code",
   "execution_count": 40,
   "metadata": {},
   "outputs": [],
   "source": [
    "#plotting scatterplots of popularity against the other variables\n",
    "\n",
    "def myScatterPlot(df, xVar, yVar):\n",
    "    \n",
    "    # A simple function created to avoid code repetition. It is to be used in plotting scatter plots within this notebook.\n",
    "    #inputs : variables to be plotted\n",
    "    #outputs: scatter plots of dependent variables against independent variable.\n",
    "    \n",
    "    # Plots\n",
    "    df.plot(kind= 'scatter', x= xVar, y= yVar, figsize=[14,6], color=['g']);\n",
    "    \n",
    "    # OPTIONAL: After plotting, tidy up labels\n",
    "    xVar=xVar.replace(\"-\",\" \") #replace _ with a space\n",
    "    yVar=yVar.replace(\"-\",\" \") #replace _ with a space\n",
    "    \n",
    "    # Add title and format it\n",
    "    plt.title(f'Relationship between {yVar} and {xVar}'.title(), fontsize =14, weight = \"bold\")\n",
    "    \n",
    "    # Add x label and format it\n",
    "    plt.xlabel(xVar.title(), fontsize = 12, weight = \"bold\")\n",
    "    \n",
    "    # Add y label and format it\n",
    "    plt.ylabel(yVar.title(), fontsize = 12, weight = \"bold\")"
   ]
  },
  {
   "cell_type": "code",
   "execution_count": 41,
   "metadata": {},
   "outputs": [
    {
     "data": {
      "image/png": "[encoded data removed]",
      "text/plain": [
       "<Figure size 1008x432 with 1 Axes>"
      ]
     },
     "metadata": {},
     "output_type": "display_data"
    }
   ],
   "source": [
    "# call plot function\n",
    "myScatterPlot(df, 'revenue_adj','popularity')"
   ]
  },
  {
   "cell_type": "code",
   "execution_count": 42,
   "metadata": {},
   "outputs": [
    {
     "data": {
      "image/png": "[encoded data removed]",
      "text/plain": [
       "<Figure size 1008x432 with 1 Axes>"
      ]
     },
     "metadata": {},
     "output_type": "display_data"
    }
   ],
   "source": [
    "myScatterPlot(df, 'vote_average','popularity')"
   ]
  },
  {
   "cell_type": "code",
   "execution_count": 43,
   "metadata": {},
   "outputs": [
    {
     "data": {
      "text/html": [
       "<div>\n",
       "<style scoped>\n",
       "    .dataframe tbody tr th:only-of-type {\n",
       "        vertical-align: middle;\n",
       "    }\n",
       "\n",
       "    .dataframe tbody tr th {\n",
       "        vertical-align: top;\n",
       "    }\n",
       "\n",
       "    .dataframe thead th {\n",
       "        text-align: right;\n",
       "    }\n",
       "</style>\n",
       "<table border=\"1\" class=\"dataframe\">\n",
       "  <thead>\n",
       "    <tr style=\"text-align: right;\">\n",
       "      <th></th>\n",
       "      <th>popularity</th>\n",
       "      <th>vote_count</th>\n",
       "      <th>vote_average</th>\n",
       "      <th>release_year</th>\n",
       "      <th>budget_adj</th>\n",
       "      <th>revenue_adj</th>\n",
       "      <th>profit</th>\n",
       "    </tr>\n",
       "  </thead>\n",
       "  <tbody>\n",
       "    <tr>\n",
       "      <th>popularity</th>\n",
       "      <td>1.000</td>\n",
       "      <td>0.779</td>\n",
       "      <td>0.320</td>\n",
       "      <td>0.176</td>\n",
       "      <td>0.395</td>\n",
       "      <td>0.545</td>\n",
       "      <td>0.515</td>\n",
       "    </tr>\n",
       "  </tbody>\n",
       "</table>\n",
       "</div>"
      ],
      "text/plain": [
       "            popularity  vote_count  vote_average  release_year  budget_adj  \\\n",
       "popularity       1.000       0.779         0.320         0.176       0.395   \n",
       "\n",
       "            revenue_adj  profit  \n",
       "popularity        0.545   0.515  "
      ]
     },
     "execution_count": 43,
     "metadata": {},
     "output_type": "execute_result"
    }
   ],
   "source": [
    "df.corr().popularity.to_frame().T"
   ]
  },
  {
   "cell_type": "markdown",
   "metadata": {},
   "source": [
    "> Scatterplots are good plots for comparing the relationship between variables. Given that, popularity may influence the rush to watch a film and possibly rate it higher. My hypothesis was that the higher the popularity of a movie, the greater its viewer rating and revenue. The above visuals do not affirm my hypothesis. It can be seen that there is a somewhat strong positive relationship between popularity and revenue, while there is a weak positive relationship between popularity and rating/vote_average. The dots on the plot indicate that the most highly rated movies were not very popular."
   ]
  },
  {
   "cell_type": "code",
   "execution_count": 44,
   "metadata": {},
   "outputs": [
    {
     "data": {
      "text/html": [
       "<div>\n",
       "<style scoped>\n",
       "    .dataframe tbody tr th:only-of-type {\n",
       "        vertical-align: middle;\n",
       "    }\n",
       "\n",
       "    .dataframe tbody tr th {\n",
       "        vertical-align: top;\n",
       "    }\n",
       "\n",
       "    .dataframe thead th {\n",
       "        text-align: right;\n",
       "    }\n",
       "</style>\n",
       "<table border=\"1\" class=\"dataframe\">\n",
       "  <thead>\n",
       "    <tr style=\"text-align: right;\">\n",
       "      <th>genres</th>\n",
       "      <th>Action</th>\n",
       "      <th>Adventure</th>\n",
       "      <th>Animation</th>\n",
       "      <th>Comedy</th>\n",
       "      <th>Crime</th>\n",
       "      <th>Documentary</th>\n",
       "      <th>Drama</th>\n",
       "      <th>Family</th>\n",
       "      <th>Fantasy</th>\n",
       "      <th>Foreign</th>\n",
       "      <th>History</th>\n",
       "      <th>Horror</th>\n",
       "      <th>Music</th>\n",
       "      <th>Mystery</th>\n",
       "      <th>Romance</th>\n",
       "      <th>Science Fiction</th>\n",
       "      <th>TV Movie</th>\n",
       "      <th>Thriller</th>\n",
       "      <th>War</th>\n",
       "      <th>Western</th>\n",
       "    </tr>\n",
       "  </thead>\n",
       "  <tbody>\n",
       "    <tr>\n",
       "      <th>popularity</th>\n",
       "      <td>1.578</td>\n",
       "      <td>1.881</td>\n",
       "      <td>1.724</td>\n",
       "      <td>1.025</td>\n",
       "      <td>1.127</td>\n",
       "      <td>0.354</td>\n",
       "      <td>1.013</td>\n",
       "      <td>1.482</td>\n",
       "      <td>1.758</td>\n",
       "      <td>0.192</td>\n",
       "      <td>0.974</td>\n",
       "      <td>0.858</td>\n",
       "      <td>0.924</td>\n",
       "      <td>1.145</td>\n",
       "      <td>0.965</td>\n",
       "      <td>1.879</td>\n",
       "      <td>0.274</td>\n",
       "      <td>1.267</td>\n",
       "      <td>1.246</td>\n",
       "      <td>1.134</td>\n",
       "    </tr>\n",
       "  </tbody>\n",
       "</table>\n",
       "</div>"
      ],
      "text/plain": [
       "genres      Action  Adventure  Animation  Comedy  Crime  Documentary  Drama  \\\n",
       "popularity   1.578      1.881      1.724   1.025  1.127        0.354  1.013   \n",
       "\n",
       "genres      Family  Fantasy  Foreign  History  Horror  Music  Mystery  \\\n",
       "popularity   1.482    1.758    0.192    0.974   0.858  0.924    1.145   \n",
       "\n",
       "genres      Romance  Science Fiction  TV Movie  Thriller   War  Western  \n",
       "popularity    0.965            1.879     0.274     1.267 1.246    1.134  "
      ]
     },
     "execution_count": 44,
     "metadata": {},
     "output_type": "execute_result"
    }
   ],
   "source": [
    "# Using the group exploded dataframe by genres to get average popularity\n",
    "genres_df.groupby('genres').popularity.mean().to_frame().T"
   ]
  },
  {
   "cell_type": "code",
   "execution_count": 45,
   "metadata": {},
   "outputs": [
    {
     "data": {
      "text/plain": [
       "Text(0, 0.5, 'Genres')"
      ]
     },
     "execution_count": 45,
     "metadata": {},
     "output_type": "execute_result"
    },
    {
     "data": {
      "image/png": "[encoded data removed]",
      "text/plain": [
       "<Figure size 1058.4x595.44 with 1 Axes>"
      ]
     },
     "metadata": {},
     "output_type": "display_data"
    }
   ],
   "source": [
    "# Creates a chart for average popularity by genre.\n",
    "genres_df.groupby('genres').popularity.mean().plot.barh(color=['g'],width=0.9,figsize=[14.70, 8.27],rot=0)\n",
    "\n",
    "# Adding titles/labels to chart\n",
    "plt.title('Average Popularity by genres', fontsize = 25)\n",
    "plt.xlabel('Popularity', fontsize = 20, weight = \"bold\")\n",
    "plt.ylabel('Genres', fontsize = 20, weight = \"bold\")"
   ]
  },
  {
   "cell_type": "markdown",
   "metadata": {},
   "source": [
    "> The bar graph above indicates that the genre with the highest average popularity is 'Adventures' with an average popularity score of 1.154. "
   ]
  },
  {
   "cell_type": "markdown",
   "metadata": {},
   "source": [
    "<a id='conclusions'></a>\n",
    "## Conclusions\n",
    "\n",
    ">The steps for the analysis of this data were done using histograms to present separate variables of interest; using scatter plots to check for relationships between the stated independent and dependent variables; and finally, the use of bar charts to present information on two variables of interest. All conclusions drawn were based on the movie dataset that was available.\n",
    "\n",
    ">Assertions reached from available data and questions posed reveal that the answer to the first question about the characteristics of highly rated movies does not exactly have any outstanding features that other movies with lower ratings do not have, except that they are more popular and that the raters probably enjoyed them more than the ones rated lower.\n",
    "\n",
    ">In terms of the properties connected with high-grossing films, it can be stated that they have a high budgetary allocation and are very popular. Concerning the relationship between popularity, rating, and revenue, this can be described as weak. To find out exactly how much one might affect the other, more statistical analysis will need to be done.\n",
    "\n",
    ">The bar graphs clearly display the top three most profitable movies, the top ten rated movies, and the most popular genre, using the average popularity as a measure. The popularity ratio between the adventure genre and the science fiction genre was quite close. None of the three most profitable movies appeared among the top-rated movies. A different analysis might need to be carried out to determine whether there is a reason for this.\n",
    "\n",
    "> The results of this data analyis is limited by the data found within the dataset. Certain missing and inconsistent observations posed a major challenge. A different sample might yield different results. Other limitations are no statistical inference were performed in this analysis and therefore cannot be used to draw further conclusions. More information might be yielded if a different approach to data analysis  is followed."
   ]
  },
  {
   "cell_type": "markdown",
   "metadata": {},
   "source": [
    "## References- N/A"
   ]
  }
 ],
 "metadata": {
  "kernelspec": {
   "display_name": "Python 3 (ipykernel)",
   "language": "python",
   "name": "python3"
  },
  "language_info": {
   "codemirror_mode": {
    "name": "ipython",
    "version": 3
   },
   "file_extension": ".py",
   "mimetype": "text/x-python",
   "name": "python",
   "nbconvert_exporter": "python",
   "pygments_lexer": "ipython3",
   "version": "3.9.12"
  }
 },
 "nbformat": 4,
 "nbformat_minor": 2
}
